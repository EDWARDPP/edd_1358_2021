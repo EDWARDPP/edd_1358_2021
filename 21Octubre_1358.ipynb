{
  "nbformat": 4,
  "nbformat_minor": 0,
  "metadata": {
    "colab": {
      "name": "21Octubre_1358.ipynb",
      "provenance": [],
      "authorship_tag": "ABX9TyN8HyO7fAQarQLgeVgRPUpL",
      "include_colab_link": true
    },
    "kernelspec": {
      "name": "python3",
      "display_name": "Python 3"
    }
  },
  "cells": [
    {
      "cell_type": "markdown",
      "metadata": {
        "id": "view-in-github",
        "colab_type": "text"
      },
      "source": [
        "<a href=\"https://colab.research.google.com/github/EDWARDPP/edd_1358_2021/blob/master/21Octubre_1358.ipynb\" target=\"_parent\"><img src=\"https://colab.research.google.com/assets/colab-badge.svg\" alt=\"Open In Colab\"/></a>"
      ]
    },
    {
      "cell_type": "code",
      "metadata": {
        "id": "K6LOm_QKqc8o",
        "outputId": "22df8334-f024-47a9-a229-48fa0bae9849",
        "colab": {
          "base_uri": "https://localhost:8080/",
          "height": 85
        }
      },
      "source": [
        "#declaracion de los setters y getters (encapsulamiento tradicional) en tipo java\n",
        "class Smartphone:\n",
        "  def __init__(self, m):\n",
        "    self.__marca = m\n",
        "\n",
        "  def set_marca(self, m):\n",
        "    self.__marca = m\n",
        "  def get_marca(self):\n",
        "    return self.__marca\n",
        "\n",
        "  def to_string(self):\n",
        "    return \"La marca del telefono es:\" + self.__marca\n",
        "\n",
        "sp1 = Smartphone(\" Huawei\")\n",
        "print(sp1.to_string())\n",
        "sp1.__marca = \"iPhone x\" #No se cambia porque el atributo es privado\n",
        "print(sp1.to_string())\n",
        "sp1.set_marca(\"Samsung\") #Aqui si se cambia porque se manda cambiar por el encapsulamiento\n",
        "print(sp1.to_string()) \n",
        "print(sp1.get_marca())\n"
      ],
      "execution_count": 7,
      "outputs": [
        {
          "output_type": "stream",
          "text": [
            "La marca del telefono es: Huawei\n",
            "La marca del telefono es: Huawei\n",
            "La marca del telefono es:Samsung\n",
            "Samsung\n"
          ],
          "name": "stdout"
        }
      ]
    },
    {
      "cell_type": "code",
      "metadata": {
        "id": "H42m80xwxbUQ",
        "outputId": "f3119b86-0d55-4b2d-b12d-0a11c89e2ade",
        "colab": {
          "base_uri": "https://localhost:8080/",
          "height": 119
        }
      },
      "source": [
        "#declaracion de los setters y getters (encapsulamiento phyton3)\n",
        "class Smartphone:\n",
        "  def __init__(self, m):\n",
        "    self.marca = m   #Llamando al metodo get\n",
        "\n",
        "  @property #se define el metodo get y se declara self.__marca con forma privada\n",
        "  def marca(self):\n",
        "    \n",
        "    return self.__marca\n",
        "\n",
        "  @marca.setter #posterior a la definicion del atributo \n",
        "  def marca( self , m ):\n",
        "        if m in [\"Lenovo\",\"Sony\",\"Motorola\",\"iPhone SE\",\"Huawei\",\"Xiaomi\"]:\n",
        "            self.__marca = m \n",
        "        else:\n",
        "            print(\"Asignacion no valida \")\n",
        "\n",
        "\n",
        "  def to_string( self ):\n",
        "        return \"Marca = \" + self.marca\n",
        "\n",
        "\n",
        "smp2 = Smartphone(\"Xiaomi\")\n",
        "print(smp2.to_string())\n",
        "smp2.__marca = \"iPhone SE\"#esta declarado como privado\n",
        "print(smp2.to_string())\n",
        "smp2.marca = \"Motorola\" #Ahora marca tiene la doble funcionalidad de set y get\n",
        "print(smp2.to_string()) #invocacion del metodo set\n",
        "\n",
        "\n",
        "\n",
        "print(smp2.marca) #Invocacion del metodo get\n",
        "smp2.marca = \"646565w5dfwfefefw61\"\n",
        "print( smp2.to_string() )\n",
        "\n"
      ],
      "execution_count": 52,
      "outputs": [
        {
          "output_type": "stream",
          "text": [
            "Marca = Xiaomi\n",
            "Marca = Xiaomi\n",
            "Marca = Motorola\n",
            "Motorola\n",
            "Asignacion no valida \n",
            "Marca = Motorola\n"
          ],
          "name": "stdout"
        }
      ]
    },
    {
      "cell_type": "code",
      "metadata": {
        "id": "EDqHuz5c5GA_",
        "outputId": "f237cef8-d5ca-4a58-ae66-f39332259db4",
        "colab": {
          "base_uri": "https://localhost:8080/",
          "height": 71
        }
      },
      "source": [
        "class TelefonoTrabajo(Smartphone):\n",
        "  def __init__(self, m):\n",
        "    self.marca = m\n",
        "\n",
        "smp3 = TelefonoTrabajo(\"Motorola\" )\n",
        "print(dir(smp3))\n",
        "print(smp3.to_string())"
      ],
      "execution_count": 53,
      "outputs": [
        {
          "output_type": "stream",
          "text": [
            "['_Smartphone__marca', '__class__', '__delattr__', '__dict__', '__dir__', '__doc__', '__eq__', '__format__', '__ge__', '__getattribute__', '__gt__', '__hash__', '__init__', '__init_subclass__', '__le__', '__lt__', '__module__', '__ne__', '__new__', '__reduce__', '__reduce_ex__', '__repr__', '__setattr__', '__sizeof__', '__str__', '__subclasshook__', '__weakref__', 'marca', 'to_string']\n",
            "Marca = Motorola\n"
          ],
          "name": "stdout"
        }
      ]
    }
  ]
}