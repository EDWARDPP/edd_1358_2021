{
  "nbformat": 4,
  "nbformat_minor": 0,
  "metadata": {
    "colab": {
      "name": "11_enero_1358.ipynb",
      "provenance": [],
      "authorship_tag": "ABX9TyPZxSifY4QCRXyoxVKDnz19",
      "include_colab_link": true
    },
    "kernelspec": {
      "name": "python3",
      "display_name": "Python 3"
    }
  },
  "cells": [
    {
      "cell_type": "markdown",
      "metadata": {
        "id": "view-in-github",
        "colab_type": "text"
      },
      "source": [
        "<a href=\"https://colab.research.google.com/github/EDWARDPP/edd_1358_2021/blob/master/11_enero_1358.ipynb\" target=\"_parent\"><img src=\"https://colab.research.google.com/assets/colab-badge.svg\" alt=\"Open In Colab\"/></a>"
      ]
    },
    {
      "cell_type": "code",
      "metadata": {
        "id": "zJIfg5TSM9t-"
      },
      "source": [
        "class NodoArbol:\r\n",
        "  def __init__(self, dato, hijo_izq=None, hijo_der=None):\r\n",
        "    self.dato=dato\r\n",
        "    self.hijo_izq= hijo_izq\r\n",
        "    self.hijo_der= hijo_der\r\n",
        "  \r\n",
        "  "
      ],
      "execution_count": 103,
      "outputs": []
    },
    {
      "cell_type": "code",
      "metadata": {
        "colab": {
          "base_uri": "https://localhost:8080/"
        },
        "id": "QZgwlTryRDOe",
        "outputId": "cecd9742-1230-4e2b-e4be-867b511245b5"
      },
      "source": [
        "arbol = NodoArbol(\"R\")  #Declaramos raiz\r\n",
        "arbol.hijo_izq = NodoArbol(\"C\")  #Declaramos el nodo izquierdo\r\n",
        "arbol.hijo_der = NodoArbol(\"H\")  #DEclaramos el nodo derecho\r\n",
        "\r\n",
        "#Imprimimos el nodo Raiz?\r\n",
        "print(arbol.dato)\r\n",
        "\r\n",
        "#Imprimimos el hijo izquierdo?\r\n",
        "print(arbol.hijo_izq.dato)\r\n",
        "\r\n",
        "#Imprimimos el hijo derecho?\r\n",
        "print(arbol.hijo_der.dato)\r\n",
        "\r\n"
      ],
      "execution_count": 104,
      "outputs": [
        {
          "output_type": "stream",
          "text": [
            "R\n",
            "C\n",
            "H\n"
          ],
          "name": "stdout"
        }
      ]
    },
    {
      "cell_type": "code",
      "metadata": {
        "colab": {
          "base_uri": "https://localhost:8080/"
        },
        "id": "ZxtWbsX1SwV5",
        "outputId": "98689f46-e765-4419-ab16-6ab33c7f941a"
      },
      "source": [
        "#Poniendo todo en una sola linea\r\n",
        "arbol_v2 = NodoArbol(\"R\",NodoArbol(\"C\"),NodoArbol(\"H\"))\r\n",
        "#Imprimimos el nodo Raiz?\r\n",
        "print(arbol_v2.dato)\r\n",
        "\r\n",
        "#Imprimimos el hijo izquierdo?\r\n",
        "print(arbol_v2.hijo_izq.dato)\r\n",
        "\r\n",
        "#Imprimimos el hijo derecho?\r\n",
        "print(arbol_v2.hijo_der.dato)"
      ],
      "execution_count": 105,
      "outputs": [
        {
          "output_type": "stream",
          "text": [
            "R\n",
            "C\n",
            "H\n"
          ],
          "name": "stdout"
        }
      ]
    },
    {
      "cell_type": "code",
      "metadata": {
        "colab": {
          "base_uri": "https://localhost:8080/"
        },
        "id": "RR9kVR-fTYlv",
        "outputId": "3f4a4f61-79e7-4732-d1db-e2b5d93cbc1e"
      },
      "source": [
        "#Ejercicio 2\r\n",
        "arbol2 =NodoArbol(4,NodoArbol(3,NodoArbol(2,NodoArbol(2))),NodoArbol(5))\r\n",
        "print(arbol2.dato) #Raiz\r\n",
        "print(arbol2.hijo_der.dato) #Hijo derecho 5\r\n",
        "print(arbol2.hijo_izq.dato) #Hijo izquierdo 3\r\n",
        "print(arbol2.hijo_izq.hijo_izq.dato) #Hijo izquierdo del hijo izquierdo 2\r\n",
        "print(arbol2.hijo_izq.hijo_izq.hijo_izq.dato) #Hijo izquierdo del hijo izquierdo del hijo izquierdo 2\r\n",
        "print(\"\")\r\n",
        "print(\"Recorriendo una rama:\")\r\n",
        "aux = arbol2\r\n",
        "while aux.hijo_izq !=None:\r\n",
        "  aux = aux.hijo_izq\r\n",
        "print(aux.dato)"
      ],
      "execution_count": 106,
      "outputs": [
        {
          "output_type": "stream",
          "text": [
            "4\n",
            "5\n",
            "3\n",
            "2\n",
            "2\n",
            "\n",
            "Recorriendo una rama:\n",
            "2\n"
          ],
          "name": "stdout"
        }
      ]
    },
    {
      "cell_type": "code",
      "metadata": {
        "id": "Lr5n_9sjY2hU"
      },
      "source": [
        "class NodoArbolT:\r\n",
        "  def __init__(self, dato, hijo_izq=None,hijo_cen=None, hijo_der=None):\r\n",
        "    self.dato=dato\r\n",
        "    self.hijo_izq= hijo_izq\r\n",
        "    self.hijo_cen= hijo_cen\r\n",
        "    self.hijo_der= hijo_der\r\n",
        "  "
      ],
      "execution_count": 107,
      "outputs": []
    },
    {
      "cell_type": "code",
      "metadata": {
        "id": "z4sE1peaZIzc"
      },
      "source": [
        "arbol4 =NodoArbolT(\"R\",NodoArbolT(\"I\",None,NodoArbolT(\"X\"),None),NodoArbolT(\"C\",NodoArbolT(\"Y\"), None,None), NodoArbolT(\"D\",None,None,NodoArbolT(\"Z\")))\r\n"
      ],
      "execution_count": 108,
      "outputs": []
    }
  ]
}