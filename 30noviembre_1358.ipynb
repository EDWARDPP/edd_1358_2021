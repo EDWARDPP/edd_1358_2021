{
  "nbformat": 4,
  "nbformat_minor": 0,
  "metadata": {
    "colab": {
      "name": "30noviembre_1358.ipynb",
      "provenance": [],
      "authorship_tag": "ABX9TyNiDalcMzdKWbY33lFTf8Lm",
      "include_colab_link": true
    },
    "kernelspec": {
      "name": "python3",
      "display_name": "Python 3"
    }
  },
  "cells": [
    {
      "cell_type": "markdown",
      "metadata": {
        "id": "view-in-github",
        "colab_type": "text"
      },
      "source": [
        "<a href=\"https://colab.research.google.com/github/EDWARDPP/edd_1358_2021/blob/master/30noviembre_1358.ipynb\" target=\"_parent\"><img src=\"https://colab.research.google.com/assets/colab-badge.svg\" alt=\"Open In Colab\"/></a>"
      ]
    },
    {
      "cell_type": "code",
      "metadata": {
        "id": "X_f1R6l846h3"
      },
      "source": [
        "class Stack:\n",
        "  def __init__(self):\n",
        "    self.__data = []\n",
        "    self.__size = 0\n",
        "\n",
        "  def pop(self):\n",
        "    return self.__data.pop()\n",
        "  \n",
        "  def peek(self):\n",
        "    return self.__data[-1]\n",
        "\n",
        "  def push(self, value):\n",
        "    self.__data.append(value)\n",
        "\n",
        "    self.__size +=1\n",
        "  \n",
        "  def to_String(self):\n",
        "    print(\"------\")\n",
        "    for dato in self.__data[::-1]:  #Slicing inverso, permite recorrer la pila en orden \n",
        "      print(f\"| {dato} |\")\n",
        "      print(\"------\")\n",
        "\n"
      ],
      "execution_count": 58,
      "outputs": []
    },
    {
      "cell_type": "code",
      "metadata": {
        "colab": {
          "base_uri": "https://localhost:8080/"
        },
        "id": "zSGTsn5_9RGY",
        "outputId": "df673718-db36-47fd-ed28-758507b6240b"
      },
      "source": [
        "p1 = Stack()\n",
        "p1.push(34)\n",
        "p1.push(10)\n",
        "p1.push(45)\n",
        "p1.push(4)\n",
        "p1.push(23)\n",
        "p1.push(33)\n",
        "valor = p1.pop()\n",
        "print(valor *2)\n",
        "p1.to_String()\n",
        "valor = p1.peek()\n",
        "print(valor*2)"
      ],
      "execution_count": 59,
      "outputs": [
        {
          "output_type": "stream",
          "text": [
            "66\n",
            "------\n",
            "| 23 |\n",
            "------\n",
            "| 4 |\n",
            "------\n",
            "| 45 |\n",
            "------\n",
            "| 10 |\n",
            "------\n",
            "| 34 |\n",
            "------\n",
            "46\n"
          ],
          "name": "stdout"
        }
      ]
    },
    {
      "cell_type": "code",
      "metadata": {
        "colab": {
          "base_uri": "https://localhost:8080/"
        },
        "id": "PzmmqKCJB2p5",
        "outputId": "1fe9496d-5aa9-4617-aac4-bc9737c77c1c"
      },
      "source": [
        "#Aplicaciones de la estructura Stack\n",
        "#1.-Validacion de parentesis balanceados '(' , '[' y '{'\n",
        "\n",
        "cadena = \"b=3*(5+(4/2))\"\n",
        "pila = Stack()\n",
        "pila.push(\"#\")  #Caracter de pila vacia ----> #\n",
        " \n",
        "for char in cadena:\n",
        "  if char == \"(\":\n",
        "    pila.push(\"*\")\n",
        "  elif char == \")\":\n",
        "    pila.pop()\n",
        "  else:\n",
        "    pass\n",
        "if pila.peek() == \"#\":\n",
        "  print(\"La Expresion esta balanceada en parentesis\")\n",
        "else:\n",
        "  print(\"La Expresion no esta balanceada en parentesis\")\n"
      ],
      "execution_count": 60,
      "outputs": [
        {
          "output_type": "stream",
          "text": [
            "La Expresion esta balanceada en parentesis\n"
          ],
          "name": "stdout"
        }
      ]
    }
  ]
}