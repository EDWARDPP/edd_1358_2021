{
  "nbformat": 4,
  "nbformat_minor": 0,
  "metadata": {
    "colab": {
      "name": "11Noviembre_1358.ipynb",
      "provenance": [],
      "authorship_tag": "ABX9TyOaV53EXksfA9ulqvfwBx01",
      "include_colab_link": true
    },
    "kernelspec": {
      "name": "python3",
      "display_name": "Python 3"
    }
  },
  "cells": [
    {
      "cell_type": "markdown",
      "metadata": {
        "id": "view-in-github",
        "colab_type": "text"
      },
      "source": [
        "<a href=\"https://colab.research.google.com/github/EDWARDPP/edd_1358_2021/blob/master/11Noviembre_1358.ipynb\" target=\"_parent\"><img src=\"https://colab.research.google.com/assets/colab-badge.svg\" alt=\"Open In Colab\"/></a>"
      ]
    },
    {
      "cell_type": "code",
      "metadata": {
        "id": "rZXNvfVpCZyj",
        "outputId": "c1104b72-5228-446e-8aaf-7211340e8e91",
        "colab": {
          "base_uri": "https://localhost:8080/"
        }
      },
      "source": [
        "class Nodo:\n",
        "  def __init__(self, dato):\n",
        "    self.__dato = dato\n",
        "    self.__siguiente = None\n",
        "\n",
        "  def get_dato(self):\n",
        "    return self.__dato\n",
        "  def set_dato(self, d):\n",
        "    self.__dato = d\n",
        "  def get_siguiente(self):\n",
        "    return self.__siguiente\n",
        "  def set_siguiente(self, s):\n",
        "   self.__siguiente = s \n",
        "\n",
        "  def show( self ):\n",
        "        curr_node = self # Head\n",
        "        print(\" Inicio de la estructura ligada:\")\n",
        "        print(\"|\" + str(curr_node.get_dato()) + \"| -->\" , end =\"\" )\n",
        "        while( curr_node.get_siguiente() != None ):\n",
        "            curr_node = curr_node.get_siguiente()\n",
        "            print(\"|\" + str(curr_node.get_dato() ) + \"| -->\" , end =\"\" )\n",
        "        print(\"\\nFin\")\n",
        "        \n",
        "#Ejemplo 1\n",
        "a = Nodo(10)\n",
        "a.show()\n",
        "\n",
        "#Ejemplo 2\n",
        "a.set_siguiente(Nodo(20))\n",
        "a.show()\n",
        "\n",
        "#Ejemplo 3\n",
        "a.get_siguiente().set_siguiente(Nodo(30))\n",
        "a.show()\n",
        "\n",
        "#Ejemplo 4\n",
        "a.get_siguiente().get_siguiente().set_siguiente(Nodo(40))\n",
        "a.show()\n",
        "\n",
        "#Ejemplo 5\n",
        "a.get_siguiente().get_siguiente().get_siguiente().set_siguiente(Nodo(50))\n",
        "a.show()\n",
        "\n",
        "#Ejemplo 6, cambio de valor del nodo 1\n",
        "a.set_dato(12)\n",
        "a.show()\n",
        "\n",
        "#Ejemplo 7 cambiando el 40 por 45\n",
        "a.get_siguiente().get_siguiente().get_siguiente().set_dato(45)\n",
        "a.show()\n",
        "\n",
        "#Ejemplo 8 Poniendo el 60 hasta el final\n",
        "a.get_siguiente().get_siguiente().get_siguiente().get_siguiente().set_siguiente(Nodo(60))\n",
        "a.show()\n",
        "\n",
        "#Ejemplo 9 Intesrtando en 20 el valor de 25\n",
        "a.get_siguiente().set_dato(25)\n",
        "a.show()\n",
        "\n",
        "\n"
      ],
      "execution_count": 18,
      "outputs": [
        {
          "output_type": "stream",
          "text": [
            " Inicio de la estructura ligada:\n",
            "|10| -->\n",
            "Fin\n",
            " Inicio de la estructura ligada:\n",
            "|10| -->|20| -->\n",
            "Fin\n",
            " Inicio de la estructura ligada:\n",
            "|10| -->|20| -->|30| -->\n",
            "Fin\n",
            " Inicio de la estructura ligada:\n",
            "|10| -->|20| -->|30| -->|40| -->\n",
            "Fin\n",
            " Inicio de la estructura ligada:\n",
            "|10| -->|20| -->|30| -->|40| -->|50| -->\n",
            "Fin\n",
            " Inicio de la estructura ligada:\n",
            "|12| -->|20| -->|30| -->|40| -->|50| -->\n",
            "Fin\n",
            " Inicio de la estructura ligada:\n",
            "|12| -->|20| -->|30| -->|45| -->|50| -->\n",
            "Fin\n",
            " Inicio de la estructura ligada:\n",
            "|12| -->|20| -->|30| -->|45| -->|50| -->|60| -->\n",
            "Fin\n",
            " Inicio de la estructura ligada:\n",
            "|12| -->|25| -->|30| -->|45| -->|50| -->|60| -->\n",
            "Fin\n"
          ],
          "name": "stdout"
        }
      ]
    },
    {
      "cell_type": "code",
      "metadata": {
        "id": "oPdrf0qwM4J0",
        "outputId": "c116b699-89dd-4fdb-9243-0af9e4594fb5",
        "colab": {
          "base_uri": "https://localhost:8080/"
        }
      },
      "source": [
        "#Ejemplo 10 Eliminando un nodo(se recomineda desencapsular los atributos)\n",
        "class Nodo:\n",
        "  def __init__(self, dato):\n",
        "    self.dato = dato\n",
        "    self.siguiente = None\n",
        "\n",
        "\n",
        "\n",
        "\n",
        "#Ejemplo 1 \n",
        "a = Nodo(10)\n",
        "print(a.dato)\n",
        "print(a.siguiente)\n",
        "\n",
        "#Ejemplo 2\n",
        "a.siguiente = Nodo(20)\n",
        "\n",
        "\n",
        "#ejemplo 3\n",
        "a.siguiente.siguiente=Nodo(30)\n",
        "\n",
        "#Ejemplo 4\n",
        "a.siguiente.siguiente.siguiente=Nodo(40)\n",
        "\n",
        "#Ejemplo 5\n",
        "a.siguiente.siguiente.siguiente.siguiente=Nodo(50)\n",
        "\n",
        "#Ejemplo 6 cambiando el 40\n",
        "a.siguiente.siguiente.siguiente.dato= 45\n",
        "\n",
        "#Ejemplo 7 cambiando el 30\n",
        "a.siguiente.siguiente.dato=35\n",
        "\n",
        "#Recorrido transversal\n",
        "curr_node = a\n",
        "print(curr_node.dato , \"-->\" , end=\"\")\n",
        "while( curr_node.siguiente != None ):\n",
        "    curr_node = curr_node.siguiente\n",
        "    print(curr_node.dato, \"-->\" , end=\"\")\n",
        "print(\"\")\n",
        "\n",
        "\n",
        "#Ejemplo 8 Eliminando el 35\n",
        "a.siguiente.siguiente = a.siguiente.siguiente.siguiente\n",
        "\n",
        "#Ejemplo 9 Eliminando todos menos la cabeza\n",
        "a.siguiente = a.siguiente.siguiente.siguiente.siguiente\n",
        "\n",
        "\n",
        "\n",
        "#Recorrido transversal\n",
        "curr_node = a\n",
        "print(curr_node.dato , \"-->\" , end=\"\")\n",
        "while( curr_node.siguiente != None ):\n",
        "    curr_node = curr_node.siguiente\n",
        "    print(curr_node.dato, \"-->\" , end=\"\")\n",
        "print(\"\")\n",
        "\n",
        "\n",
        "\n"
      ],
      "execution_count": 32,
      "outputs": [
        {
          "output_type": "stream",
          "text": [
            "10\n",
            "None\n",
            "10 -->20 -->35 -->45 -->50 -->\n",
            "10 -->\n"
          ],
          "name": "stdout"
        }
      ]
    }
  ]
}