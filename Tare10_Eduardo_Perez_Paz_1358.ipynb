{
  "nbformat": 4,
  "nbformat_minor": 0,
  "metadata": {
    "colab": {
      "name": "Tare10_Eduardo_Perez_Paz_1358.ipynb",
      "provenance": [],
      "authorship_tag": "ABX9TyNlq371iPcpqd0wX9Uy6G6Q",
      "include_colab_link": true
    },
    "kernelspec": {
      "name": "python3",
      "display_name": "Python 3"
    }
  },
  "cells": [
    {
      "cell_type": "markdown",
      "metadata": {
        "id": "view-in-github",
        "colab_type": "text"
      },
      "source": [
        "<a href=\"https://colab.research.google.com/github/EDWARDPP/edd_1358_2021/blob/master/Tare10_Eduardo_Perez_Paz_1358.ipynb\" target=\"_parent\"><img src=\"https://colab.research.google.com/assets/colab-badge.svg\" alt=\"Open In Colab\"/></a>"
      ]
    },
    {
      "cell_type": "code",
      "metadata": {
        "id": "o1dDcWVpPoRI",
        "colab": {
          "base_uri": "https://localhost:8080/"
        },
        "outputId": "1d7b40c8-e08a-4002-a6af-3d9c1c5a5648"
      },
      "source": [
        "#Crear una lista de enteros en Python y realizar la suma con recursividad, el caso base es cuando en la lista quede un elemento o cuando la longitud sea cero.\r\n",
        "#lista_enteros=[1,2,3]\r\n",
        "def rec_lista_enteros(lista_enteros=[]):\r\n",
        "\r\n",
        "  if len(lista_enteros) == 0:\r\n",
        "    return 0\r\n",
        "  else:\r\n",
        "    return  (lista_enteros[0] + rec_lista_enteros(lista_enteros[1:])) # Utilizando slicing para sumar el primer elemento de la lista con otra lista formada por los elementos restantes.\r\n",
        "  \r\n",
        "print(rec_lista_enteros([2,4,5,7,0,9]))"
      ],
      "execution_count": null,
      "outputs": [
        {
          "output_type": "stream",
          "text": [
            "27\n"
          ],
          "name": "stdout"
        }
      ]
    },
    {
      "cell_type": "code",
      "metadata": {
        "id": "hiI1_z3FQC6X",
        "colab": {
          "base_uri": "https://localhost:8080/"
        },
        "outputId": "9390770e-0fc0-4e32-bb3b-455ea5d6e005"
      },
      "source": [
        "#Hacer un contador regresivo con recursividad.\r\n",
        "def rec_contador(numero):\r\n",
        "  if numero > 0:\r\n",
        "    print(numero)\r\n",
        "    rec_contador(numero-1)\r\n",
        "  elif numero < 0:\r\n",
        "    print(numero)\r\n",
        "    rec_contador(numero+1)\r\n",
        "  else: \r\n",
        "    return 0\r\n",
        "rec_contador(8)"
      ],
      "execution_count": null,
      "outputs": [
        {
          "output_type": "stream",
          "text": [
            "8\n",
            "7\n",
            "6\n",
            "5\n",
            "4\n",
            "3\n",
            "2\n",
            "1\n"
          ],
          "name": "stdout"
        }
      ]
    },
    {
      "cell_type": "code",
      "metadata": {
        "id": "ZhG8IUi3fEJs"
      },
      "source": [
        "# Sacar de un ADT pila el valor en la posición media.\r\n"
      ],
      "execution_count": null,
      "outputs": []
    }
  ]
}