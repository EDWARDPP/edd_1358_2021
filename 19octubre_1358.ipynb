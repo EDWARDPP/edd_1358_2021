{
  "nbformat": 4,
  "nbformat_minor": 0,
  "metadata": {
    "colab": {
      "name": "19octubre_1358.ipynb",
      "provenance": [],
      "authorship_tag": "ABX9TyO5pymCtaKUyy/jikuE1yI/",
      "include_colab_link": true
    },
    "kernelspec": {
      "name": "python3",
      "display_name": "Python 3"
    }
  },
  "cells": [
    {
      "cell_type": "markdown",
      "metadata": {
        "id": "view-in-github",
        "colab_type": "text"
      },
      "source": [
        "<a href=\"https://colab.research.google.com/github/EDWARDPP/edd_1358_2021/blob/master/19octubre_1358.ipynb\" target=\"_parent\"><img src=\"https://colab.research.google.com/assets/colab-badge.svg\" alt=\"Open In Colab\"/></a>"
      ]
    },
    {
      "cell_type": "code",
      "metadata": {
        "id": "YRxkoGdhXQZW",
        "outputId": "9d38d1a7-e651-4cb8-b237-6e528e3bbdf2",
        "colab": {
          "base_uri": "https://localhost:8080/",
          "height": 90
        }
      },
      "source": [
        "#Leyendo un archivo, \n",
        "archivo = open('sample_data/frutas.txt','rt')\n",
        "\n",
        "data = archivo.read() #lee todo el archivo\n",
        "print(data.upper())\n",
        "archivo.close()\n"
      ],
      "execution_count": 11,
      "outputs": [
        {
          "output_type": "stream",
          "text": [
            "LIMON, AGUACATE, FRESA, MANZANA\n",
            "CIRUELA, CAPULIN, NARANJA\n",
            "PERA, KIWI\n",
            "\n"
          ],
          "name": "stdout"
        }
      ]
    },
    {
      "cell_type": "code",
      "metadata": {
        "id": "H7Xm2KqueAzp",
        "outputId": "8c8ef706-cbea-438f-cbc3-fb3866a2fdce",
        "colab": {
          "base_uri": "https://localhost:8080/",
          "height": 126
        }
      },
      "source": [
        "#leyendo una linea del archivo\n",
        "archivo = open('sample_data/frutas.txt','rt')\n",
        "#print(archivo.readline()) #lee solo la primer linea(o una linea del archivo) del archivo.\n",
        "#print(archivo.readline()) #lee la siguiente linea\n",
        "#print(archivo.readline()) #lee la siguiente linea\n",
        "data = archivo.readline()\n",
        "while data !=\"\":\n",
        "  print(data)\n",
        "  data = archivo.readline()\n",
        "\n",
        "archivo.close()"
      ],
      "execution_count": 13,
      "outputs": [
        {
          "output_type": "stream",
          "text": [
            "limon, aguacate, fresa, manzana\n",
            "\n",
            "ciruela, capulin, naranja\n",
            "\n",
            "pera, kiwi\n",
            "\n"
          ],
          "name": "stdout"
        }
      ]
    },
    {
      "cell_type": "code",
      "metadata": {
        "id": "Hd-D6EXogDok",
        "outputId": "c6a083a6-cc97-4e56-e5e0-1572eb0d6fb5",
        "colab": {
          "base_uri": "https://localhost:8080/",
          "height": 54
        }
      },
      "source": [
        "#Leyendo varias lineas (readlines())\n",
        "\n",
        "archivo = open('sample_data/frutas.txt', 'rt')\n",
        "\n",
        "data = archivo.readlines() #lee todas las lineas y cada una la mete en un elemento de  una lista\n",
        "print(data)\n",
        "\n",
        "frutas=[]\n",
        "for linea in data:\n",
        "  frutas.append(linea.strip()) #se quito el salto de linea \n",
        "\n",
        "frutas_final=[]\n",
        "for elem in frutas:\n",
        "  for fruta in elem.split(','): #saca cada elemento  \n",
        "    frutas_final.append(fruta.strip()) #se eliminan los saltos de linea o espacios a izquierda y derecha\n",
        "\n",
        "print(frutas_final)\n",
        "archivo.close()"
      ],
      "execution_count": 17,
      "outputs": [
        {
          "output_type": "stream",
          "text": [
            "['limon, aguacate, fresa, manzana\\n', 'ciruela, capulin, naranja\\n', 'pera, kiwi\\n']\n",
            "['limon', 'aguacate', 'fresa', 'manzana', 'ciruela', 'capulin', 'naranja', 'pera', 'kiwi']\n"
          ],
          "name": "stdout"
        }
      ]
    },
    {
      "cell_type": "markdown",
      "metadata": {
        "id": "umrYFYbdlE47"
      },
      "source": [
        "#POO con phyton\n",
        "- clase\n",
        "- objetos\n",
        "- atributos\n",
        "- metodos\n",
        "- metodo constructor\n",
        "- encapsulamiento (public or private)\n",
        "- herencia\n",
        "\n",
        " Para declarar clase en phyton se usa la palabra reservada class"
      ]
    },
    {
      "cell_type": "code",
      "metadata": {
        "id": "Jk8kNHHClsUQ",
        "outputId": "f3eba15e-31c2-4a40-f5f6-e4035e0967ae",
        "colab": {
          "base_uri": "https://localhost:8080/",
          "height": 54
        }
      },
      "source": [
        "class Persona:  #declaracion de clase\n",
        "  def __init__(self, edd , est): #declaracion de un constructor\n",
        "    self.__edad = edd #atributos privados\n",
        "    self.__estatura = est #variables privadas __\n",
        "\n",
        "  def to_String(self):  #self es la referencia al objeto que se esta creando\n",
        "    print(f\"Edad ={self.__edad}, est={self.__estatura}\")\n",
        "\n",
        "per1 = Persona(23, 1.78) #declarar un objeto\n",
        "per1.to_String() \n",
        "per1.estatura = 10.40\n",
        "per1.to_String()\n"
      ],
      "execution_count": 25,
      "outputs": [
        {
          "output_type": "stream",
          "text": [
            "Edad =23, est=1.78\n",
            "Edad =23, est=1.78\n"
          ],
          "name": "stdout"
        }
      ]
    }
  ]
}