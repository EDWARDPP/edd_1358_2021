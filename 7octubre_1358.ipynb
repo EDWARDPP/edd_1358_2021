{
  "nbformat": 4,
  "nbformat_minor": 0,
  "metadata": {
    "colab": {
      "name": "7octubre_1358.ipynb",
      "provenance": [],
      "authorship_tag": "ABX9TyOe6DJJ3Zgk8kc8OZ4aTx74",
      "include_colab_link": true
    },
    "kernelspec": {
      "name": "python3",
      "display_name": "Python 3"
    }
  },
  "cells": [
    {
      "cell_type": "markdown",
      "metadata": {
        "id": "view-in-github",
        "colab_type": "text"
      },
      "source": [
        "<a href=\"https://colab.research.google.com/github/EDWARDPP/edd_1358_2021/blob/master/7octubre_1358.ipynb\" target=\"_parent\"><img src=\"https://colab.research.google.com/assets/colab-badge.svg\" alt=\"Open In Colab\"/></a>"
      ]
    },
    {
      "cell_type": "code",
      "metadata": {
        "id": "4wIkWLWjkm-Q",
        "outputId": "50735caf-e17a-4d8d-d01f-6133e313bc37",
        "colab": {
          "base_uri": "https://localhost:8080/"
        }
      },
      "source": [
        "#Listas multidimensionales\n",
        "autos = [\"Mazda\",\"honda\",\"Akura\",\"Ford\",\"VW\"]\n",
        "telefonos = [\"iPhone\",\"Huawei Mate 30\", \"Xiaomi S10\",\"Alcatel t1000\"]\n",
        "sistemas_operativos = [ \"Windows\", \"Linux\" , \"Android\" , \"iOS\" ,\"MacOs\" ]\n",
        "procesadores = [[\"Intel\",3.1,True],[\"AMD\", 2.7,True],[\"Motorola\",1.1,False]]\n",
        "\n",
        "lista_nd = [autos,telefonos,sistemas_operativos,procesadores]\n",
        "print(lista_nd)\n",
        "print(lista_nd[2][3])\n",
        "print(lista_nd[1][1][3:6:1])\n",
        "print(lista_nd[3][1][1])\n",
        "print(lista_nd[3][2][0][2:5:1])\n",
        "print(lista_nd[3][0][0][-2:-5:-1])\n",
        "\n",
        "#Concatenar listas\n",
        "colores = [\"rojo\", \"verde\", \"azul\", \"negro\"]\n",
        "flores= [\"margarita\",\"rosa\",]\n",
        "\n",
        "nueva = colores + flores #Los elementos de la primera se le suman a la segunda, pero las originales se mantienen\n",
        "print(nueva)\n",
        "print(colores)\n",
        "print(flores)\n",
        "\n",
        "#con extends\n",
        "colores.extend(flores)#Aqui si se modifica la lista a la que se le agrega otra\n",
        "print(colores)\n",
        "\n",
        "#unpacking de listas \n",
        "print(\"unpacking\")\n",
        "datos_personales = [\"Jose\", \"Pérez\", \"Juarez\", 22,1.67, True ]\n",
        "nombre, paterno, materno, edad, estatura, fuma = datos_personales #Cada variable se le asigna al valor en la posicion indicada \n",
        "print(f\"Nombre: {nombre} \\n Edad: {edad} \" ) \n",
        "\n",
        "\n",
        "\n"
      ],
      "execution_count": 18,
      "outputs": [
        {
          "output_type": "stream",
          "text": [
            "[['Mazda', 'honda', 'Akura', 'Ford', 'VW'], ['iPhone', 'Huawei Mate 30', 'Xiaomi S10', 'Alcatel t1000'], ['Windows', 'Linux', 'Android', 'iOS', 'MacOs'], [['Intel', 3.1, True], ['AMD', 2.7, True], ['Motorola', 1.1, False]]]\n",
            "iOS\n",
            "wei\n",
            "2.7\n",
            "tor\n",
            "etn\n",
            "['rojo', 'verde', 'azul', 'negro', 'margarita', 'rosa']\n",
            "['rojo', 'verde', 'azul', 'negro']\n",
            "['margarita', 'rosa']\n",
            "['rojo', 'verde', 'azul', 'negro', 'margarita', 'rosa']\n",
            "unpacking\n",
            "Nombre: Jose \n",
            " Edad: 22 \n"
          ],
          "name": "stdout"
        }
      ]
    },
    {
      "cell_type": "code",
      "metadata": {
        "id": "t3Mxjx_5uKu_",
        "outputId": "cfd8be6b-71b8-437c-b04b-3ace40a46c39",
        "colab": {
          "base_uri": "https://localhost:8080/"
        }
      },
      "source": [
        "#Tuplas\n",
        "bd = (\"127.0.0.1\", \"root\", \"toor\", \"1345\") #Conjunto de datos para consulta\n",
        "print(f\"Usuario de la bd es: {bd[1]}\")\n",
        "#bd[1]=\"user1\"  no se puede modificar\n",
        "print(bd[1:3:1]) #El slicing funciona igual\n",
        "\n",
        "\n",
        "\n",
        "\n"
      ],
      "execution_count": 22,
      "outputs": [
        {
          "output_type": "stream",
          "text": [
            "Usuario de la bd es: root\n",
            "('root', 'toor')\n"
          ],
          "name": "stdout"
        }
      ]
    },
    {
      "cell_type": "code",
      "metadata": {
        "id": "JrV68_zXwSr2",
        "outputId": "09120a61-ea22-4eca-d4ea-d535c7b37452",
        "colab": {
          "base_uri": "https://localhost:8080/"
        }
      },
      "source": [
        "#Diccionarios\n",
        "#Se declaran con {} y se pueden declarar en multiples lineas, asi que no le afectan las sangrias\n",
        "alumno = {\"nombre\" : \"Juan\", \"edad\": 22, \"carrera\": \"ICO\"}\n",
        "print(alumno)\n",
        "print(alumno[\"edad\"])\n",
        "alumno = {\"nombre\" : \"Juan\", \n",
        "          \"edad\": 22, \n",
        "          \"carrera\": \"ICO\",\n",
        "          \"direccion\" : {\"calle\": \"Bosques de Africa\", \n",
        "                         \"Numero\": 33,\n",
        "                         \"Delegacion\": \"Nezahualcoyotl\",\n",
        "                         \"Estado\": 15, \n",
        "                         \"nombre_estado\": \"Estado de Mexico\"\n",
        "                         } \n",
        "          }\n",
        "print(alumno)\n",
        "print(alumno[\"direccion\"])\n",
        "print(alumno[\"direccion\"][\"Delegacion\"]) #Hay que cuidar minusculas y mayusculas\n",
        "\n",
        "print(alumno[\"direccion\"][\"Delegacion\"][3:7]) #Tambien hay slicing\n",
        "print(alumno[\"direccion\"][\"Delegacion\"][3:7].upper()) #Como la salida es un string, se pueden utilizar ditintos metodos\n",
        "alumno[\"edad\"] = 35\n",
        "print(alumno)\n",
        "\n",
        "alumno[\"promedio\"] = 9.9 #Agrega un nuevo campo al final del diccionario\n",
        "print(alumno)\n",
        "\n",
        "alumno[\"direccion\"][\"cp\"] = 17170 #Agrega un campo dentro de otro campo\n",
        "print(alumno)\n",
        "alumno[\"materia\"] = {\"nombre\": \"CyP\", \"calificacion\": 10} #Agrega otro diccionario\n",
        "print(alumno) \n",
        "\n",
        "\n",
        "\n",
        "\n"
      ],
      "execution_count": 41,
      "outputs": [
        {
          "output_type": "stream",
          "text": [
            "{'nombre': 'Juan', 'edad': 22, 'carrera': 'ICO'}\n",
            "22\n",
            "{'nombre': 'Juan', 'edad': 22, 'carrera': 'ICO', 'direccion': {'calle': 'Bosques de Africa', 'Numero': 33, 'Delegacion': 'Nezahualcoyotl', 'Estado': 15, 'nombre_estado': 'Estado de Mexico'}}\n",
            "{'calle': 'Bosques de Africa', 'Numero': 33, 'Delegacion': 'Nezahualcoyotl', 'Estado': 15, 'nombre_estado': 'Estado de Mexico'}\n",
            "Nezahualcoyotl\n",
            "ahua\n",
            "AHUA\n",
            "{'nombre': 'Juan', 'edad': 35, 'carrera': 'ICO', 'direccion': {'calle': 'Bosques de Africa', 'Numero': 33, 'Delegacion': 'Nezahualcoyotl', 'Estado': 15, 'nombre_estado': 'Estado de Mexico'}}\n",
            "{'nombre': 'Juan', 'edad': 35, 'carrera': 'ICO', 'direccion': {'calle': 'Bosques de Africa', 'Numero': 33, 'Delegacion': 'Nezahualcoyotl', 'Estado': 15, 'nombre_estado': 'Estado de Mexico'}, 'promedio': 9.9}\n",
            "{'nombre': 'Juan', 'edad': 35, 'carrera': 'ICO', 'direccion': {'calle': 'Bosques de Africa', 'Numero': 33, 'Delegacion': 'Nezahualcoyotl', 'Estado': 15, 'nombre_estado': 'Estado de Mexico', 'cp': 17170}, 'promedio': 9.9}\n",
            "{'nombre': 'Juan', 'edad': 35, 'carrera': 'ICO', 'direccion': {'calle': 'Bosques de Africa', 'Numero': 33, 'Delegacion': 'Nezahualcoyotl', 'Estado': 15, 'nombre_estado': 'Estado de Mexico', 'cp': 17170}, 'promedio': 9.9, 'materia': {'nombre': 'CyP', 'calificacion': 10}}\n"
          ],
          "name": "stdout"
        }
      ]
    }
  ]
}