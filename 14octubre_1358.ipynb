{
  "nbformat": 4,
  "nbformat_minor": 0,
  "metadata": {
    "colab": {
      "name": "14octubre_1358.ipynb",
      "provenance": [],
      "authorship_tag": "ABX9TyOTEgVYSevrXclLdAEK+JSl",
      "include_colab_link": true
    },
    "kernelspec": {
      "name": "python3",
      "display_name": "Python 3"
    }
  },
  "cells": [
    {
      "cell_type": "markdown",
      "metadata": {
        "id": "view-in-github",
        "colab_type": "text"
      },
      "source": [
        "<a href=\"https://colab.research.google.com/github/EDWARDPP/edd_1358_2021/blob/master/14octubre_1358.ipynb\" target=\"_parent\"><img src=\"https://colab.research.google.com/assets/colab-badge.svg\" alt=\"Open In Colab\"/></a>"
      ]
    },
    {
      "cell_type": "code",
      "metadata": {
        "id": "TI1rmlXbokyu",
        "outputId": "4af312f5-4e61-47a0-e063-bf391b9844f7",
        "colab": {
          "base_uri": "https://localhost:8080/",
          "height": 90
        }
      },
      "source": [
        "def calcular(a, b, c):\n",
        "  x= a + ( b / c)\n",
        "  return x\n",
        "\n",
        "print(calcular(5, 9, 3))\n",
        "print(calcular(a=5, c=3, b=9)) #puedes especificar hacia que variable va cada valor.\n",
        "\n",
        "def calcular_v2(a=10, b=20, c=5):\n",
        "  x = a+(b/c)\n",
        "  return x\n",
        "\n",
        "print(calcular_v2()) #si en la definicion de la funcion, sus argumentos se inicializan, se toman esos valores\n",
        "print(calcular_v2(4,5,8)) #se pueden asignar valores por posicion o por explicitidad"
      ],
      "execution_count": 16,
      "outputs": [
        {
          "output_type": "stream",
          "text": [
            "8.0\n",
            "8.0\n",
            "14.0\n",
            "4.625\n"
          ],
          "name": "stdout"
        }
      ]
    },
    {
      "cell_type": "markdown",
      "metadata": {
        "id": "iM2znm2fr71c"
      },
      "source": [
        "#Argumentos a funciones por tupla *\n",
        "se envian los argumentos en un conjunto de elementos dentro de una tupla"
      ]
    },
    {
      "cell_type": "code",
      "metadata": {
        "id": "EX588nUXsIPi",
        "outputId": "8afc9b88-7903-4717-d360-e24b07200a41",
        "colab": {
          "base_uri": "https://localhost:8080/",
          "height": 54
        }
      },
      "source": [
        "def calculo( *elem):  #el operador asterisco te regresa una tupla\n",
        "  print(elem)\n",
        "  x= elem[0] + (elem[1]/elem[2])\n",
        "  return x\n",
        "\n",
        "print(calculo(5,9,3,8,8,8))"
      ],
      "execution_count": 9,
      "outputs": [
        {
          "output_type": "stream",
          "text": [
            "(5, 9, 3)\n",
            "8.0\n"
          ],
          "name": "stdout"
        }
      ]
    },
    {
      "cell_type": "markdown",
      "metadata": {
        "id": "ySmBjV9Dsunl"
      },
      "source": [
        "#Argumentos como diccionario **"
      ]
    },
    {
      "cell_type": "code",
      "metadata": {
        "id": "iZ2RMs-ds2BB",
        "outputId": "17cef94b-6816-4cc9-af96-a371547bc4cc",
        "colab": {
          "base_uri": "https://localhost:8080/",
          "height": 54
        }
      },
      "source": [
        "def calculo( **elem):\n",
        "  print(elem)\n",
        "  x= elem[\"a\"]+ (elem[\"b\"]/elem[\"c\"])\n",
        "  return x\n",
        "\n",
        "print(calculo(a=5, b=9, c=3))"
      ],
      "execution_count": 13,
      "outputs": [
        {
          "output_type": "stream",
          "text": [
            "{'a': 5, 'b': 9, 'c': 3}\n",
            "8.0\n"
          ],
          "name": "stdout"
        }
      ]
    },
    {
      "cell_type": "markdown",
      "metadata": {
        "id": "5dB8Yux52iMH"
      },
      "source": [
        "#archivos\n",
        "- abrirlos\n",
        "  -un str con la ruta del archivo\n",
        "  - dos caracteres 1-> modo de apertura(r, w) y el 2 formato (texto Binario\n",
        "- leerlos\n",
        "- modificarlos"
      ]
    },
    {
      "cell_type": "code",
      "metadata": {
        "id": "fKHvlqmB2989"
      },
      "source": [
        "archivo = open(\"ejemplo.txt\", \"wt\") #quiere abrir el archivo en forma de escritura de texto\n",
        "archivo.write(\"hola mundo de archivos\")\n",
        "\n",
        "\n",
        "archivo.close()"
      ],
      "execution_count": 21,
      "outputs": []
    },
    {
      "cell_type": "code",
      "metadata": {
        "id": "d7lTs-cG4rfL"
      },
      "source": [
        "#cat ejemplo.txt #Esta invocando un comando de sistema operativo\n",
        "!(touch j.txt)\n",
        "!(cat ejemplo.txt > otra.txt)"
      ],
      "execution_count": 20,
      "outputs": []
    }
  ]
}