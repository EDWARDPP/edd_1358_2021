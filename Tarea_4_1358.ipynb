{
  "nbformat": 4,
  "nbformat_minor": 0,
  "metadata": {
    "colab": {
      "name": "Tarea 4_1358.ipynb",
      "provenance": [],
      "authorship_tag": "ABX9TyPhWO5u2gDr/KooSq8wHsxN",
      "include_colab_link": true
    },
    "kernelspec": {
      "name": "python3",
      "display_name": "Python 3"
    }
  },
  "cells": [
    {
      "cell_type": "markdown",
      "metadata": {
        "id": "view-in-github",
        "colab_type": "text"
      },
      "source": [
        "<a href=\"https://colab.research.google.com/github/EDWARDPP/edd_1358_2021/blob/master/Tarea_4_1358.ipynb\" target=\"_parent\"><img src=\"https://colab.research.google.com/assets/colab-badge.svg\" alt=\"Open In Colab\"/></a>"
      ]
    },
    {
      "cell_type": "code",
      "metadata": {
        "id": "DcNvA4apuJje"
      },
      "source": [
        "class Nodo:\n",
        "  def __init__(self, dato, siguiente=None):\n",
        "    self.dato = dato\n",
        "    self.siguiente = siguiente\n",
        "\n",
        "class LinkedList:\n",
        "  def __init__(self):\n",
        "    self.__head = None\n",
        "\n",
        "  def is_empty(self):\n",
        "    return self.__head == None\n",
        "\n",
        "  def tail(self):\n",
        "    curr_node = self.__head\n",
        "    while curr_node !=None and curr_node.siguiente != None: #Valida cuando la cabeza es igual a none\n",
        "      curr_node = curr_node.siguiente\n",
        "    return curr_node\n",
        "  \n",
        "  def append(self, value):\n",
        "    nuevo = Nodo(value)\n",
        "    if self.__head == None:\n",
        "      self.__head=nuevo\n",
        "    else:\n",
        "      self.tail().siguiente = nuevo\n",
        "  \n",
        "  def prepend(self, value):\n",
        "    inicio = Nodo(value)\n",
        "    if self.__head ==None:\n",
        "      self.__head = inicio\n",
        "    else:\n",
        "      x = self.__head\n",
        "      self.__head = inicio\n",
        "      inicio.siguiente = x \n",
        "\n",
        "  def transversal(self):\n",
        "    curr_node = self.__head\n",
        "    if curr_node == None:\n",
        "      print(\"Lista vacia\")\n",
        "    else:\n",
        "      while curr_node !=None: \n",
        "        print(f\"{curr_node.dato}----->\", end= \"\")\n",
        "        curr_node = curr_node.siguiente\n",
        "    print(\"\")\n",
        "\n",
        "  def remove(self, value):\n",
        "    curr_node = self.__head\n",
        "    prev_node = None\n",
        "    while curr_node.dato != value:\n",
        "      prev_node = curr_node\n",
        "      curr_node = curr_node.siguiente\n",
        "    if prev_node == None:\n",
        "      self.__head = curr_node.siguiente\n",
        "    else: \n",
        "      curr_node == None\n",
        "      prev_node.siguiente = curr_node.siguiente\n",
        "      curr_node.siguiente = None\n",
        "\n",
        "          \n",
        "\n",
        "  def pop(self, pos):\n",
        "    curr_node = self.__head\n",
        "\n",
        "    for l in range(pos):\n",
        "       curr_node = curr_node.siguiente\n",
        "       num = curr_node.dato\n",
        "    if pos == 0:\n",
        "      num = curr_node.dato\n",
        "    return num\n",
        "     "
      ],
      "execution_count": 13,
      "outputs": []
    },
    {
      "cell_type": "code",
      "metadata": {
        "colab": {
          "base_uri": "https://localhost:8080/"
        },
        "id": "E_RXjBcmuSMI",
        "outputId": "c6c4e540-8635-47b2-b421-1229e03ac1d2"
      },
      "source": [
        "l = LinkedList()\n",
        "print(f\"la lista esta vacia? {l.is_empty() }\")\n",
        "x = l.tail()\n",
        "print(x)\n",
        "l.append(10)\n",
        "l.append(20)\n",
        "l.append(30)\n",
        "l.append(40)\n",
        "l.transversal()\n",
        "l.prepend(5)\n",
        "l.transversal()\n",
        "l.remove(30)\n",
        "l.transversal()\n",
        "l.pop(2)\n"
      ],
      "execution_count": 14,
      "outputs": [
        {
          "output_type": "stream",
          "text": [
            "la lista esta vacia? True\n",
            "None\n",
            "10----->20----->30----->40----->\n",
            "5----->10----->20----->30----->40----->\n",
            "5----->10----->20----->40----->\n"
          ],
          "name": "stdout"
        },
        {
          "output_type": "execute_result",
          "data": {
            "text/plain": [
              "20"
            ]
          },
          "metadata": {
            "tags": []
          },
          "execution_count": 14
        }
      ]
    }
  ]
}