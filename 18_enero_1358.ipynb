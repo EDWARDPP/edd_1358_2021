{
  "nbformat": 4,
  "nbformat_minor": 0,
  "metadata": {
    "colab": {
      "name": "18_enero_1358.ipynb",
      "provenance": [],
      "authorship_tag": "ABX9TyNAIQLRURnbRBsyEznlULzl",
      "include_colab_link": true
    },
    "kernelspec": {
      "name": "python3",
      "display_name": "Python 3"
    }
  },
  "cells": [
    {
      "cell_type": "markdown",
      "metadata": {
        "id": "view-in-github",
        "colab_type": "text"
      },
      "source": [
        "<a href=\"https://colab.research.google.com/github/EDWARDPP/edd_1358_2021/blob/master/18_enero_1358.ipynb\" target=\"_parent\"><img src=\"https://colab.research.google.com/assets/colab-badge.svg\" alt=\"Open In Colab\"/></a>"
      ]
    },
    {
      "cell_type": "code",
      "metadata": {
        "id": "7jtzJhnfPp_g"
      },
      "source": [
        "class NodoArbol:\r\n",
        "  def __init__(self, value, left =None, right=None):\r\n",
        "    self.data = value\r\n",
        "    self.left= left\r\n",
        "    self.rigth = right\r\n"
      ],
      "execution_count": 37,
      "outputs": []
    },
    {
      "cell_type": "code",
      "metadata": {
        "id": "9sImOGMsSz4C"
      },
      "source": [
        "class ArbolBinarioBusqueda:\r\n",
        "  def __init__(self):\r\n",
        "    self.__root = None\r\n",
        "  \r\n",
        "  def insert(self, value):\r\n",
        "    #Caso 1\r\n",
        "    if self.__root == None:\r\n",
        "      self.__root= NodoArbol(value)\r\n",
        "    else:\r\n",
        "      self.__insert__(self.__root, value)#Se manda una copia para no perder la raiz del arbol\r\n",
        "    #recursividad\r\n",
        "\r\n",
        "  def __insert__(self, nodo, value): #Este metodo va a funcionar  con recursividad\r\n",
        "      #Preguntamos si el nodo esta vacio\r\n",
        "      if nodo.data == value: \r\n",
        "        print(\"El nodo ya existe, no se puede insertar: \",value)\r\n",
        "      elif value < nodo.data:\r\n",
        "        #ir a la izquierda\r\n",
        "        if nodo.left == None:\r\n",
        "          nodo.left == NodoArbol(value)\r\n",
        "        else: \r\n",
        "          self.__insert__(nodo.left, value,) #Si no esta vacio, se manda llamar otra vez el metodo insert y se compara el nuevo valor con el nodo actual(recursividad)\r\n",
        "\r\n",
        "      else: \r\n",
        "        #ir a la derecha\r\n",
        "        if nodo.right == None:\r\n",
        "          nodo.right = NodoArbol(value, None, None)\r\n",
        "        else:\r\n",
        "          self.__insert__(nodo.right, value)"
      ],
      "execution_count": 42,
      "outputs": []
    },
    {
      "cell_type": "code",
      "metadata": {
        "colab": {
          "base_uri": "https://localhost:8080/"
        },
        "id": "kib8cTcgdKQ4",
        "outputId": "f38d6e1b-f1fd-4150-8934-f142e3f01998"
      },
      "source": [
        "abb = ArbolBinarioBusqueda()\r\n",
        "abb.insert(40)\r\n",
        "abb.insert(40)\r\n",
        "abb.insert(30)\r\n",
        "abb.insert(30)"
      ],
      "execution_count": 43,
      "outputs": [
        {
          "output_type": "stream",
          "text": [
            "El nodo ya existe, no se puede insertar:  40\n"
          ],
          "name": "stdout"
        }
      ]
    }
  ]
}