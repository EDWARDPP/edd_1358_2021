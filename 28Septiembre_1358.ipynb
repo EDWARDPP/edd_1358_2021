{
  "nbformat": 4,
  "nbformat_minor": 0,
  "metadata": {
    "colab": {
      "name": "28Septiembre_1358.ipynb",
      "provenance": [],
      "collapsed_sections": [],
      "authorship_tag": "ABX9TyPX8fLB/MbUwfFlGwoEy7nD",
      "include_colab_link": true
    },
    "kernelspec": {
      "name": "python3",
      "display_name": "Python 3"
    }
  },
  "cells": [
    {
      "cell_type": "markdown",
      "metadata": {
        "id": "view-in-github",
        "colab_type": "text"
      },
      "source": [
        "<a href=\"https://colab.research.google.com/github/EDWARDPP/edd_1358_2021/blob/master/28Septiembre_1358.ipynb\" target=\"_parent\"><img src=\"https://colab.research.google.com/assets/colab-badge.svg\" alt=\"Open In Colab\"/></a>"
      ]
    },
    {
      "cell_type": "code",
      "metadata": {
        "id": "ghyGoT58XKA7",
        "outputId": "45093e52-5eee-4ebd-dec1-09e684ee2964",
        "colab": {
          "base_uri": "https://localhost:8080/",
          "height": 34
        }
      },
      "source": [
        "print(\"hola colab ressearch\")\n",
        "nombre = \"EdD\"\n",
        "val =10"
      ],
      "execution_count": 34,
      "outputs": [
        {
          "output_type": "stream",
          "text": [
            "hola colab ressearch\n"
          ],
          "name": "stdout"
        }
      ]
    },
    {
      "cell_type": "code",
      "metadata": {
        "id": "MYRuQOEcX4Oq",
        "outputId": "a3cacd8c-9e4e-4251-cbc6-e0a0f74e6c48",
        "colab": {
          "base_uri": "https://localhost:8080/",
          "height": 51
        }
      },
      "source": [
        "print (nombre)\n",
        "print(val)"
      ],
      "execution_count": 35,
      "outputs": [
        {
          "output_type": "stream",
          "text": [
            "EdD\n",
            "10\n"
          ],
          "name": "stdout"
        }
      ]
    },
    {
      "cell_type": "markdown",
      "metadata": {
        "id": "9yFixjKLZxd3"
      },
      "source": [
        "# hola esto es un encabezado\n",
        "## Encabezado 2\n",
        "### Sintaxis Markdown \n",
        "\n",
        "\n",
        "* elemento 1\n",
        "* elemento 2\n",
        "* elemento 3\n",
        "\n",
        "1. fresa\n",
        "1. manzana\n",
        "1. pera \n",
        "\n",
        "esto es _un_ texto en **negritas **"
      ]
    },
    {
      "cell_type": "code",
      "metadata": {
        "id": "-c6mDFgSERwU"
      },
      "source": [
        "class Silla():\n",
        "    def __init__(self):\n",
        "        self.material = \"\"\n",
        "        self.color = \"\"\n",
        "\n",
        "    def to_string(self):\n",
        "            print (\"----------\")\n",
        "            print (f\"Material: {self.material}\")\n",
        "            print (f\"{self.color}-------\")\n",
        "\n",
        "           "
      ],
      "execution_count": 30,
      "outputs": []
    },
    {
      "cell_type": "code",
      "metadata": {
        "id": "ZxxZmC9uEtHN",
        "outputId": "0a31c36d-b299-4c11-a2ef-9a81d9646140",
        "colab": {
          "base_uri": "https://localhost:8080/",
          "height": 68
        }
      },
      "source": [
        " obj = Silla()\n",
        " obj.material= \"Madera\"\n",
        " obj.color= \"Rojo\"\n",
        " obj.to_string()\n",
        "  \n",
        "            \n",
        "            "
      ],
      "execution_count": 32,
      "outputs": [
        {
          "output_type": "stream",
          "text": [
            "----------\n",
            "Material: Madera\n",
            "Rojo-------\n"
          ],
          "name": "stdout"
        }
      ]
    }
  ]
}