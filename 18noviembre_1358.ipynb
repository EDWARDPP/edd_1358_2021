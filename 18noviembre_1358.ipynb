{
  "nbformat": 4,
  "nbformat_minor": 0,
  "metadata": {
    "colab": {
      "name": "18noviembre_1358.ipynb",
      "provenance": [],
      "authorship_tag": "ABX9TyMTyxOfS0JFSaEyVlAZ7n+l",
      "include_colab_link": true
    },
    "kernelspec": {
      "name": "python3",
      "display_name": "Python 3"
    }
  },
  "cells": [
    {
      "cell_type": "markdown",
      "metadata": {
        "id": "view-in-github",
        "colab_type": "text"
      },
      "source": [
        "<a href=\"https://colab.research.google.com/github/EDWARDPP/edd_1358_2021/blob/master/18noviembre_1358.ipynb\" target=\"_parent\"><img src=\"https://colab.research.google.com/assets/colab-badge.svg\" alt=\"Open In Colab\"/></a>"
      ]
    },
    {
      "cell_type": "code",
      "metadata": {
        "colab": {
          "base_uri": "https://localhost:8080/"
        },
        "id": "l-IOvxnQFl2Z",
        "outputId": "a13f4139-0e71-4b0f-9613-4cfd65a57030"
      },
      "source": [
        "class Nodo:\n",
        "  def __init__(self, dato):\n",
        "    self.__dato = dato\n",
        "    self.__siguiente = None\n",
        "\n",
        "  def get_dato(self):\n",
        "    return self.__dato\n",
        "  def set_dato(self, d):\n",
        "    self.__dato = d\n",
        "  def get_siguiente(self):\n",
        "    return self.__siguiente\n",
        "  def set_siguiente(self, s):\n",
        "   self.__siguiente = s \n",
        "\n",
        "  def show( self ):\n",
        "        curr_node = self # Head\n",
        "        print(\" Inicio de la estructura ligada:\")\n",
        "        print(\"|\" + str(curr_node.get_dato()) + \"| -->\" , end =\"\" )\n",
        "        while( curr_node.get_siguiente() != None ):\n",
        "            curr_node = curr_node.get_siguiente()\n",
        "            print(\"|\" + str(curr_node.get_dato() ) + \"| -->\" , end =\"\" )\n",
        "        print(\"\\nFin\")\n",
        "        \n",
        "#Ejemplo 1\n",
        "a = Nodo(10)\n",
        "a.show()\n",
        "\n",
        "#Ejemplo 2\n",
        "a.set_siguiente(Nodo(20))\n",
        "a.show()\n",
        "\n",
        "#Ejemplo 3\n",
        "a.get_siguiente().set_siguiente(Nodo(30))\n",
        "a.show()\n",
        "\n",
        "#Ejemplo 4\n",
        "a.get_siguiente().get_siguiente().set_siguiente(Nodo(40))\n",
        "a.show()\n",
        "\n",
        "#Ejemplo 5\n",
        "a.get_siguiente().get_siguiente().get_siguiente().set_siguiente(Nodo(50))\n",
        "a.show()\n",
        "\n",
        "#Ejemplo 6, cambio de valor del nodo 1\n",
        "a.set_dato(12)\n",
        "a.show()\n",
        "\n",
        "#Ejemplo 7 cambiando el 40 por 45\n",
        "a.get_siguiente().get_siguiente().get_siguiente().set_dato(45)\n",
        "a.show()\n",
        "\n",
        "#Ejemplo 8 Poniendo el 60 hasta el final\n",
        "a.get_siguiente().get_siguiente().get_siguiente().get_siguiente().set_siguiente(Nodo(60))\n",
        "a.show()\n",
        "\n",
        "#Ejemplo 9 Intesrtando en 20 el valor de 25\n",
        "a.get_siguiente().set_dato(25)\n",
        "a.show()\n",
        "\n"
      ],
      "execution_count": 1,
      "outputs": [
        {
          "output_type": "stream",
          "text": [
            " Inicio de la estructura ligada:\n",
            "|10| -->\n",
            "Fin\n",
            " Inicio de la estructura ligada:\n",
            "|10| -->|20| -->\n",
            "Fin\n",
            " Inicio de la estructura ligada:\n",
            "|10| -->|20| -->|30| -->\n",
            "Fin\n",
            " Inicio de la estructura ligada:\n",
            "|10| -->|20| -->|30| -->|40| -->\n",
            "Fin\n",
            " Inicio de la estructura ligada:\n",
            "|10| -->|20| -->|30| -->|40| -->|50| -->\n",
            "Fin\n",
            " Inicio de la estructura ligada:\n",
            "|12| -->|20| -->|30| -->|40| -->|50| -->\n",
            "Fin\n",
            " Inicio de la estructura ligada:\n",
            "|12| -->|20| -->|30| -->|45| -->|50| -->\n",
            "Fin\n",
            " Inicio de la estructura ligada:\n",
            "|12| -->|20| -->|30| -->|45| -->|50| -->|60| -->\n",
            "Fin\n",
            " Inicio de la estructura ligada:\n",
            "|12| -->|25| -->|30| -->|45| -->|50| -->|60| -->\n",
            "Fin\n"
          ],
          "name": "stdout"
        }
      ]
    },
    {
      "cell_type": "code",
      "metadata": {
        "colab": {
          "base_uri": "https://localhost:8080/"
        },
        "id": "kYKjhf-kHwTA",
        "outputId": "6a951b78-ff3d-4b6c-8109-ba27431a7000"
      },
      "source": [
        "#Ejemplo 10 Eliminando un nodo(se recomineda desencapsular los atributos)\n",
        "class Nodo:\n",
        "  def __init__(self, dato):\n",
        "    self.dato = dato\n",
        "    self.siguiente = None\n",
        "\n",
        "\n",
        "\n",
        "\n",
        "#Ejemplo 1 \n",
        "a = Nodo(10)\n",
        "print(a.dato)\n",
        "print(a.siguiente)\n",
        "\n",
        "#Ejemplo 2\n",
        "a.siguiente = Nodo(20)\n",
        "\n",
        "\n",
        "#ejemplo 3\n",
        "a.siguiente.siguiente=Nodo(30)\n",
        "\n",
        "#Ejemplo 4\n",
        "a.siguiente.siguiente.siguiente=Nodo(40)\n",
        "\n",
        "#Ejemplo 5\n",
        "a.siguiente.siguiente.siguiente.siguiente=Nodo(50)\n",
        "\n",
        "#Ejemplo 6 cambiando el 40\n",
        "a.siguiente.siguiente.siguiente.dato= 45\n",
        "\n",
        "#Ejemplo 7 cambiando el 30\n",
        "a.siguiente.siguiente.dato=35\n",
        "\n",
        "#Recorrido transversal\n",
        "curr_node = a\n",
        "print(curr_node.dato , \"-->\" , end=\"\")\n",
        "while( curr_node.siguiente != None ):\n",
        "    curr_node = curr_node.siguiente\n",
        "    print(curr_node.dato, \"-->\" , end=\"\")\n",
        "print(\"\")\n",
        "\n",
        "\n",
        "#Ejemplo 8 Eliminando el 35\n",
        "a.siguiente.siguiente = a.siguiente.siguiente.siguiente\n",
        "\n",
        "#Ejemplo 9 Eliminando todos menos la cabeza\n",
        "a.siguiente = a.siguiente.siguiente.siguiente.siguiente\n",
        "\n",
        "\n",
        "\n",
        "#Recorrido transversal\n",
        "curr_node = a\n",
        "print(curr_node.dato , \"-->\" , end=\"\")\n",
        "while( curr_node.siguiente != None ):\n",
        "    curr_node = curr_node.siguiente\n",
        "    print(curr_node.dato, \"-->\" , end=\"\")\n",
        "print(\"\")\n",
        "\n",
        "\n",
        "\n"
      ],
      "execution_count": 2,
      "outputs": [
        {
          "output_type": "stream",
          "text": [
            "10\n",
            "None\n",
            "10 -->20 -->35 -->45 -->50 -->\n",
            "10 -->\n"
          ],
          "name": "stdout"
        }
      ]
    },
    {
      "cell_type": "code",
      "metadata": {
        "colab": {
          "base_uri": "https://localhost:8080/"
        },
        "id": "AXkaL_O7JNWY",
        "outputId": "7b24fec4-8382-4908-f994-1e89298b9471"
      },
      "source": [
        "#Código del 18 de noviembre.\n",
        "class Nodo:\n",
        "  def __init__(self, dato, siguiente=None):\n",
        "    self.dato = dato\n",
        "    self.siguiente = siguiente\n",
        "    \n",
        "head=Nodo(10, Nodo(20, Nodo(30, Nodo(40, Nodo(50)))))\n",
        "\n",
        "#Recorrido transversal\n",
        "curr_node = head\n",
        "print(curr_node.dato , \"-->\" , end=\"\")\n",
        "while( curr_node.siguiente != None ):\n",
        "    curr_node = curr_node.siguiente\n",
        "    print(curr_node.dato, \"-->\" , end=\"\")\n",
        "print(\"\")\n",
        "\n",
        "#Insertar el nodo 35 despues de 30\n",
        "\n",
        "anterior = head.siguiente.siguiente\n",
        "print(anterior.dato)\n",
        "nuevo = Nodo(35)\n",
        "nuevo.siguiente = anterior.siguiente\n",
        "print(nuevo.siguiente.dato)\n",
        "anterior.siguiente = nuevo\n",
        "\n",
        "curr_node = head\n",
        "print(curr_node.dato , \"-->\" , end=\"\")\n",
        "while( curr_node.siguiente != None ):\n",
        "    curr_node = curr_node.siguiente\n",
        "    print(curr_node.dato, \"-->\" , end=\"\")\n",
        "print(\"\")\n",
        "\n",
        "#Eliminando el 20\n",
        "head.siguiente = head.siguiente.siguiente\n",
        "curr_node = head\n",
        "print(curr_node.dato , \"-->\" , end=\"\")\n",
        "while( curr_node.siguiente != None ):\n",
        "    curr_node = curr_node.siguiente\n",
        "    print(curr_node.dato, \"-->\" , end=\"\")\n",
        "print(\"\")\n",
        "\n",
        "\n"
      ],
      "execution_count": 15,
      "outputs": [
        {
          "output_type": "stream",
          "text": [
            "10 -->20 -->30 -->40 -->50 -->\n",
            "30\n",
            "40\n",
            "10 -->20 -->30 -->35 -->40 -->50 -->\n",
            "10 -->30 -->35 -->40 -->50 -->\n"
          ],
          "name": "stdout"
        }
      ]
    },
    {
      "cell_type": "code",
      "metadata": {
        "id": "myg-rvTZVd53"
      },
      "source": [
        "class Nodo:\n",
        "  def __init__(self, dato, siguiente=None):\n",
        "    self.dato = dato\n",
        "    self.siguiente = siguiente\n",
        "\n",
        "class LinkedList:\n",
        "  def __init__(self):\n",
        "    self.__head = None\n",
        "\n",
        "  def is_empty(self):\n",
        "    return self.__head == None\n",
        "  \n",
        "  \n"
      ],
      "execution_count": null,
      "outputs": []
    }
  ]
}