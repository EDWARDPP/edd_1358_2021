{
  "nbformat": 4,
  "nbformat_minor": 0,
  "metadata": {
    "colab": {
      "name": "12octubre_1358.ipynb",
      "provenance": [],
      "authorship_tag": "ABX9TyPcVV/pUZhDtPCRsG6pY0jm",
      "include_colab_link": true
    },
    "kernelspec": {
      "name": "python3",
      "display_name": "Python 3"
    }
  },
  "cells": [
    {
      "cell_type": "markdown",
      "metadata": {
        "id": "view-in-github",
        "colab_type": "text"
      },
      "source": [
        "<a href=\"https://colab.research.google.com/github/EDWARDPP/edd_1358_2021/blob/master/12octubre_1358.ipynb\" target=\"_parent\"><img src=\"https://colab.research.google.com/assets/colab-badge.svg\" alt=\"Open In Colab\"/></a>"
      ]
    },
    {
      "cell_type": "code",
      "metadata": {
        "id": "AjrDbzrHU9qf",
        "outputId": "28f40ebc-8cdc-4957-e8b7-5128432041d7",
        "colab": {
          "base_uri": "https://localhost:8080/",
          "height": 128
        }
      },
      "source": [
        "#Diccionarios (continuacion)\n",
        "cliente_banco = {\n",
        "            \"id\":1,\n",
        "            \"nombres\":[\"Juan\",\"Antonio\"],\n",
        "            \"paterno\": \"Garcia\",\n",
        "            \"materno\": \"Perez\",\n",
        "            \"telefonos\":{\n",
        "                        \"casa\":55677778866,\n",
        "                         \"celular\": 5564409688,\n",
        "                         \"trabajo\":5566998877,\n",
        "                        },\n",
        "             \"activo\":True, \n",
        "             \"balance\":234567.89,\n",
        "             \"tarjetas\":({\"tipo\": \"debito\", \"saldo\": 12000, },{\"tipo\":\"credito\", \"saldo\":3500})   \n",
        "                }\n",
        "\n",
        "print(cliente_banco)\n",
        "#Operaciones con diccionarios\n",
        "#cliente_banco[\"balance\"] = cliente_banco[\"balance\"] -1000.89 #los diccionarios son mutables\n",
        "cliente_banco[\"balance\"]-=1000.89\n",
        "\n",
        "print(cliente_banco)\n",
        "cliente_banco[\"tarjetas\"] = ({\"tipo\": \"debito\", \"saldo\": 12000, },\n",
        "                             {\"tipo\":\"credito\", \"saldo\":3500},\n",
        "                             {\"tipo\": \"credito\", \"nivel\": \"oro\",\"saldo\": 500})#se sustituye la tupla con otra y asi se le agrega otro campo\n",
        "print(cliente_banco) \n",
        "cliente_banco[\"direccion\"]={\"calle\": \"rancho seco\",\"num\": 23} #lo agrega al final\n",
        "print(cliente_banco)\n",
        "cliente_banco.pop(\"tarjetas\")\n",
        "print(cliente_banco)\n",
        "\n"
      ],
      "execution_count": 10,
      "outputs": [
        {
          "output_type": "stream",
          "text": [
            "{'id': 1, 'nombres': ['Juan', 'Antonio'], 'paterno': 'Garcia', 'materno': 'Perez', 'telefonos': {'casa': 55677778866, 'celular': 5564409688, 'trabajo': 5566998877}, 'activo': True, 'balance': 234567.89, 'tarjetas': ({'tipo': 'debito', 'saldo': 12000}, {'tipo': 'credito', 'saldo': 3500})}\n",
            "{'id': 1, 'nombres': ['Juan', 'Antonio'], 'paterno': 'Garcia', 'materno': 'Perez', 'telefonos': {'casa': 55677778866, 'celular': 5564409688, 'trabajo': 5566998877}, 'activo': True, 'balance': 233567.0, 'tarjetas': ({'tipo': 'debito', 'saldo': 12000}, {'tipo': 'credito', 'saldo': 3500})}\n",
            "{'id': 1, 'nombres': ['Juan', 'Antonio'], 'paterno': 'Garcia', 'materno': 'Perez', 'telefonos': {'casa': 55677778866, 'celular': 5564409688, 'trabajo': 5566998877}, 'activo': True, 'balance': 233567.0, 'tarjetas': ({'tipo': 'debito', 'saldo': 12000}, {'tipo': 'credito', 'saldo': 3500}, {'tipo': 'credito', 'nivel': 'oro', 'saldo': 500})}\n",
            "{'id': 1, 'nombres': ['Juan', 'Antonio'], 'paterno': 'Garcia', 'materno': 'Perez', 'telefonos': {'casa': 55677778866, 'celular': 5564409688, 'trabajo': 5566998877}, 'activo': True, 'balance': 233567.0, 'tarjetas': ({'tipo': 'debito', 'saldo': 12000}, {'tipo': 'credito', 'saldo': 3500}, {'tipo': 'credito', 'nivel': 'oro', 'saldo': 500}), 'direccion': {'calle': 'rancho seco', 'num': 23}}\n",
            "{'id': 1, 'nombres': ['Juan', 'Antonio'], 'paterno': 'Garcia', 'materno': 'Perez', 'telefonos': {'casa': 55677778866, 'celular': 5564409688, 'trabajo': 5566998877}, 'activo': True, 'balance': 233567.0, 'direccion': {'calle': 'rancho seco', 'num': 23}}\n"
          ],
          "name": "stdout"
        }
      ]
    },
    {
      "cell_type": "code",
      "metadata": {
        "id": "12E5UoDRdioR",
        "outputId": "953e5552-7b70-4256-b1a2-6f8a1ac20d02",
        "colab": {
          "base_uri": "https://localhost:8080/",
          "height": 528
        }
      },
      "source": [
        "llaves = cliente_banco.keys()#imprime los valores del lado izquierdo, llaves\n",
        "print(llaves)\n",
        "print(type(llaves)) #te dice que tipo de dato es\n",
        "\n",
        "for x in llaves:\n",
        "    print(x) #imprime el titulo de las llaves y se pueden hacer diferentes operaciones\n",
        "\n",
        "valores = cliente_banco.values()#imprime los valores del lado derecho del diccionario, valores\n",
        "for v in valores:\n",
        "  print(v)\n",
        "\n",
        "pares = cliente_banco.items()#devuelve una lista de tuplas con la conformacion: llave, valor\n",
        "print(pares)\n",
        "\n",
        "for elem in pares:\n",
        "  print(f\" {elem[0]} = {elem[1]} \") #imprime los dos lados de la informacion con un mejor formato\n",
        "\n",
        "\n",
        "    "
      ],
      "execution_count": 20,
      "outputs": [
        {
          "output_type": "stream",
          "text": [
            "dict_keys(['id', 'nombres', 'paterno', 'materno', 'telefonos', 'activo', 'balance', 'direccion'])\n",
            "<class 'dict_keys'>\n",
            "id\n",
            "nombres\n",
            "paterno\n",
            "materno\n",
            "telefonos\n",
            "activo\n",
            "balance\n",
            "direccion\n",
            "1\n",
            "['Juan', 'Antonio']\n",
            "Garcia\n",
            "Perez\n",
            "{'casa': 55677778866, 'celular': 5564409688, 'trabajo': 5566998877}\n",
            "True\n",
            "233567.0\n",
            "{'calle': 'rancho seco', 'num': 23}\n",
            "dict_items([('id', 1), ('nombres', ['Juan', 'Antonio']), ('paterno', 'Garcia'), ('materno', 'Perez'), ('telefonos', {'casa': 55677778866, 'celular': 5564409688, 'trabajo': 5566998877}), ('activo', True), ('balance', 233567.0), ('direccion', {'calle': 'rancho seco', 'num': 23})])\n",
            " id = 1 \n",
            " nombres = ['Juan', 'Antonio'] \n",
            " paterno = Garcia \n",
            " materno = Perez \n",
            " telefonos = {'casa': 55677778866, 'celular': 5564409688, 'trabajo': 5566998877} \n",
            " activo = True \n",
            " balance = 233567.0 \n",
            " direccion = {'calle': 'rancho seco', 'num': 23} \n"
          ],
          "name": "stdout"
        }
      ]
    },
    {
      "cell_type": "code",
      "metadata": {
        "id": "XW7BmutQg9Oj",
        "outputId": "07b2d4b9-aa13-4c73-93a1-0acba01898e0",
        "colab": {
          "base_uri": "https://localhost:8080/",
          "height": 35
        }
      },
      "source": [
        "fruta =  {\"nombre\": \"manzana\", \"color\": \"rojo\", \"estado\": \"chihuahua\"}\n",
        "otras_caracteristicas = {\"vitamina\": \"d\"}\n",
        "fruta.update(otras_caracteristicas)#se combinan los diccionarios, cada elem del segundo dicc se le agrega al otro y se actualiza\n",
        "print(fruta)"
      ],
      "execution_count": 22,
      "outputs": [
        {
          "output_type": "stream",
          "text": [
            "{'nombre': 'manzana', 'color': 'rojo', 'estado': 'chihuahua', 'vitamina': 'd'}\n"
          ],
          "name": "stdout"
        }
      ]
    },
    {
      "cell_type": "markdown",
      "metadata": {
        "id": "Qzo_7OA9iPmM"
      },
      "source": [
        "#Funciones o Metodos\n",
        "Es una unidad de codigo que puede ser llamado varias veces\n",
        "- recibe de 0 a n argumentos de entrada  \n",
        "- regresa solo un valor, aunque ese valor sea None(nulo o  void)\n",
        "- Tiene un nombre unico en el contexto \n",
        "- se pueden hacer solo dos cosas con funciones:\n",
        "  - definirla\n",
        "  - llamarla"
      ]
    },
    {
      "cell_type": "code",
      "metadata": {
        "id": "tlfxUkBBjBLg",
        "outputId": "4104ecb9-b40d-4f47-cb29-82cd21db83ee",
        "colab": {
          "base_uri": "https://localhost:8080/",
          "height": 54
        }
      },
      "source": [
        "def suma(a,b):\n",
        "  return a+b\n",
        "\n",
        "def saludar():\n",
        "  print(\"Hola, ¿como estas?\")\n",
        "  return None #SE recomienda poner siempre esta declaracion si no regresa nada\n",
        "  \n",
        "\n",
        "x = 10\n",
        "y = 20\n",
        "c= suma(x,y)\n",
        "\n",
        "print(c)\n",
        "saludar()"
      ],
      "execution_count": 25,
      "outputs": [
        {
          "output_type": "stream",
          "text": [
            "30\n",
            "Hola, ¿como estas?\n"
          ],
          "name": "stdout"
        }
      ]
    },
    {
      "cell_type": "markdown",
      "metadata": {
        "id": "2d6KZPqpkuoG"
      },
      "source": [
        "#None y las funciones\n",
        "Aprovechar el uso de none en paso de paramaetros.\n"
      ]
    },
    {
      "cell_type": "code",
      "metadata": {
        "id": "cZf-iSqTk5CL",
        "outputId": "680af070-0a58-42fb-e58c-93f0f2c0be93",
        "colab": {
          "base_uri": "https://localhost:8080/",
          "height": 54
        }
      },
      "source": [
        "def calcular(base, veces):\n",
        "  if base != None:\n",
        "    resultado = base*veces\n",
        "  else:\n",
        "    resultado = \"desconocido\"\n",
        "  return resultado\n",
        "\n",
        "print(calcular(4,3))\n",
        "print(calcular(None,3))\n"
      ],
      "execution_count": 30,
      "outputs": [
        {
          "output_type": "stream",
          "text": [
            "12\n",
            "desconocido\n"
          ],
          "name": "stdout"
        }
      ]
    }
  ]
}