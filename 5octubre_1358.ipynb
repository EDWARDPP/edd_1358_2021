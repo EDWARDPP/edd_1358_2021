{
  "nbformat": 4,
  "nbformat_minor": 0,
  "metadata": {
    "colab": {
      "name": "5octubre_1358.ipynb",
      "provenance": [],
      "authorship_tag": "ABX9TyMNe+Aa8/7vuBPkRwRx/6D/",
      "include_colab_link": true
    },
    "kernelspec": {
      "name": "python3",
      "display_name": "Python 3"
    }
  },
  "cells": [
    {
      "cell_type": "markdown",
      "metadata": {
        "id": "view-in-github",
        "colab_type": "text"
      },
      "source": [
        "<a href=\"https://colab.research.google.com/github/EDWARDPP/edd_1358_2021/blob/master/5octubre_1358.ipynb\" target=\"_parent\"><img src=\"https://colab.research.google.com/assets/colab-badge.svg\" alt=\"Open In Colab\"/></a>"
      ]
    },
    {
      "cell_type": "code",
      "metadata": {
        "id": "f5p6g4nQRkBQ",
        "outputId": "68e14d3f-5c12-4dc9-f08d-8befdb01265c",
        "colab": {
          "base_uri": "https://localhost:8080/",
          "height": 90
        }
      },
      "source": [
        "precio = 12.5\n",
        "cantidad = 2\n",
        "existencia = True\n",
        "\n",
        "# precio de los chetos es $12.5 y quiero 2, hay? : True\n",
        "\n",
        "print(\"precio de los chetos es $\",precio, \"y quiero\",cantidad, \", hay?: \",existencia)\n",
        "\n",
        "# format() de la clase str\n",
        "print(\"precio de los chetos es {0} y quiero {1}, hay?: {2}\".format(precio,cantidad,existencia))\n",
        "print(\"precio de los chetos es {2} y quiero {1}, hay?: {0}\".format(precio,cantidad,existencia))\n",
        "\n",
        "# Operador f\"\"\n",
        "print( f\"precio de los chetos es {precio} y quiero {cantidad}, hay?: {existencia}\")"
      ],
      "execution_count": 11,
      "outputs": [
        {
          "output_type": "stream",
          "text": [
            "precio de los chetos es $ 12.5 y quiero 2 , hay?:  True\n",
            "precio de los chetos es 12.5 y quiero 2, hay?: True\n",
            "precio de los chetos es True y quiero 2, hay?: 12.5\n",
            "precio de los chetos es 12.5 y quiero 2, hay?: True\n"
          ],
          "name": "stdout"
        }
      ]
    },
    {
      "cell_type": "markdown",
      "metadata": {
        "id": "OelxmeWFYMR_"
      },
      "source": [
        "# Listas \n",
        "declaracion [ ]\n",
        "\n",
        "selector [ ]\n",
        "\n",
        "Es mutable(puedes modificar sus elementos internos)\n",
        "#Tuplas\n",
        "declaracion ()\n",
        "\n",
        "selector [ ]\n",
        "\n",
        "No mutables\n",
        "#Diccionarios\n",
        "Conjunto de datos en pares de llavevalor\n",
        "\n",
        "son mutables\n",
        "\n",
        "equivalentes a los objetos JSON\n",
        "\n",
        "#Conjuntos\n",
        "Grupo de elementos con la teoria de conjuntos\n",
        "\n",
        "puedes hacer operaciones con conjuntos"
      ]
    },
    {
      "cell_type": "code",
      "metadata": {
        "id": "8acAKI4JZZiv",
        "outputId": "3a9451e9-5c17-4bad-c6e2-5f4874f3b789",
        "colab": {
          "base_uri": "https://localhost:8080/",
          "height": 435
        }
      },
      "source": [
        "#listas\n",
        "materias = [\"CyP\", \"DAA\", \"EDD\", \"IS\", \"POO\"]\n",
        "print(materias)\n",
        "\n",
        "print(materias[2])\n",
        "print(materias[-1])\n",
        "print(materias[4])\n",
        "print(materias[::-1]) #Relacionado con slicing\n",
        "\n",
        "#Crear listas con la funcion split a partir de un string, regresa una lista con separaciones\n",
        "\n",
        "fecha= \"05/ooctubre/2020\"\n",
        "lista_fecha = fecha.split(\"/\")\n",
        "print(lista_fecha)\n",
        "\n",
        "#Crear un string a partir de una lista, aqui los elementos se pegan o concatenan\n",
        "lista_hora = [\"15\",\"22\",\"45\"]\n",
        "hora = \":\".join(lista_hora)\n",
        "print(hora)\n",
        "\n",
        "\n",
        "print(\"------------------------\")\n",
        "print(materias)\n",
        "print(lista_fecha)\n",
        "print(lista_hora)\n",
        "\n",
        "\n",
        "#son mutables\n",
        "materias[0] = \"Computadoras y Programacion\"\n",
        "print(materias)\n",
        "\n",
        "#agregar elementos hasta el final\n",
        "materias.append(\"Calidad\")\n",
        "print(materias)\n",
        "#Agregas un elemento en la posicion que especifiques\n",
        "materias.insert(2, \"Emprendimiento\")\n",
        "print(materias)\n",
        "\n",
        "#Saca un elemento de la posicion que tu le indiques y si no lo indicas te regresa el ultimo(los saca permantentemente de la lista)\n",
        "materia = materias.pop()\n",
        "print(materia)\n",
        "print(materias)\n",
        "\n",
        "#si le indicas un elemento que no tenga la lista, te regresa una excepcion\n",
        "materia = materias.pop(1)\n",
        "print(materia)\n",
        "print(materias)\n",
        "\n",
        "#Vaciar una lista\n",
        "materias.clear()\n",
        "print(materias)\n",
        "\n",
        "#Slicing [::]\n",
        "print(\"Slicing\")\n",
        "numeros = [0,1,2,3,4,5,6,7,8,9,10]\n",
        "print(numeros)\n",
        "print(numeros[4:9:])\n",
        "\n",
        "#Sustituir un segmento con slicing [0,1,2,3,-2,9,10]\n",
        "numeros[4:9:1] = [-2] #selecciona un segmento de lista y los sutituye con otro segmento de lista\n",
        "print(numeros)\n",
        "\n"
      ],
      "execution_count": 41,
      "outputs": [
        {
          "output_type": "stream",
          "text": [
            "['CyP', 'DAA', 'EDD', 'IS', 'POO']\n",
            "EDD\n",
            "POO\n",
            "POO\n",
            "['POO', 'IS', 'EDD', 'DAA', 'CyP']\n",
            "['05', 'ooctubre', '2020']\n",
            "15:22:45\n",
            "------------------------\n",
            "['CyP', 'DAA', 'EDD', 'IS', 'POO']\n",
            "['05', 'ooctubre', '2020']\n",
            "['15', '22', '45']\n",
            "['Computadoras y Programacion', 'DAA', 'EDD', 'IS', 'POO']\n",
            "['Computadoras y Programacion', 'DAA', 'EDD', 'IS', 'POO', 'Calidad']\n",
            "['Computadoras y Programacion', 'DAA', 'Emprendimiento', 'EDD', 'IS', 'POO', 'Calidad']\n",
            "Calidad\n",
            "['Computadoras y Programacion', 'DAA', 'Emprendimiento', 'EDD', 'IS', 'POO']\n",
            "DAA\n",
            "['Computadoras y Programacion', 'Emprendimiento', 'EDD', 'IS', 'POO']\n",
            "[]\n",
            "Slicing\n",
            "[0, 1, 2, 3, 4, 5, 6, 7, 8, 9, 10]\n",
            "[4, 5, 6, 7, 8]\n",
            "[0, 1, 2, 3, -2, 9, 10]\n"
          ],
          "name": "stdout"
        }
      ]
    },
    {
      "cell_type": "code",
      "metadata": {
        "id": "BngJgJssblfY",
        "outputId": "e0ab0a27-8dcf-4797-f6af-ba728e71ac8b",
        "colab": {
          "base_uri": "https://localhost:8080/",
          "height": 54
        }
      },
      "source": [
        "autos = [\"Mazda\", \"Honda\", \"Akura\", \"Ford\", \"Vw\"]\n",
        "telefonos = [\"iphone\", \"Huawei Mate 30\", \"Xiaomi S10\", \"Alcatel t1000\" ]\n",
        "sistemas_operativos = [\"Windows\", \"Linux\", \"Android\", \"IOS\", \"macOs\"]\n",
        "\n",
        "lista_2d = [autos, telefonos, sistemas_operativos]\n",
        "print(lista_2d)\n",
        "print(lista_2d[1][1])"
      ],
      "execution_count": 45,
      "outputs": [
        {
          "output_type": "stream",
          "text": [
            "[['Mazda', 'Honda', 'Akura', 'Ford', 'Vw'], ['iphone', 'Huawei Mate 30', 'Xiaomi S10', 'Alcatel t1000'], ['Windows', 'Linux', 'Android', 'IOS', 'macOs']]\n",
            "Huawei Mate 30\n"
          ],
          "name": "stdout"
        }
      ]
    }
  ]
}