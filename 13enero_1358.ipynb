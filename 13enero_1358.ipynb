{
  "nbformat": 4,
  "nbformat_minor": 0,
  "metadata": {
    "colab": {
      "name": "13enero_1358.ipynb",
      "provenance": [],
      "authorship_tag": "ABX9TyPNREIcn/a6CmvNLXgDuRG4",
      "include_colab_link": true
    },
    "kernelspec": {
      "name": "python3",
      "display_name": "Python 3"
    }
  },
  "cells": [
    {
      "cell_type": "markdown",
      "metadata": {
        "id": "view-in-github",
        "colab_type": "text"
      },
      "source": [
        "<a href=\"https://colab.research.google.com/github/EDWARDPP/edd_1358_2021/blob/master/13enero_1358.ipynb\" target=\"_parent\"><img src=\"https://colab.research.google.com/assets/colab-badge.svg\" alt=\"Open In Colab\"/></a>"
      ]
    },
    {
      "cell_type": "code",
      "metadata": {
        "colab": {
          "base_uri": "https://localhost:8080/"
        },
        "id": "FoPkezWae52C",
        "outputId": "938565f5-a5d9-4073-fd86-e2751fda41fd"
      },
      "source": [
        "#Ejercicio de recursividad.(hacer un problema complejo, subdividiendolo y convertirlo en trivial):\r\n",
        "def factorial(n):\r\n",
        "  if n ==0:\r\n",
        "    return 1\r\n",
        "  else:\r\n",
        "    return factorial(n-1)*n\r\n",
        "\r\n",
        "for num in range(21):\r\n",
        "  print(factorial(num))"
      ],
      "execution_count": 89,
      "outputs": [
        {
          "output_type": "stream",
          "text": [
            "1\n",
            "1\n",
            "2\n",
            "6\n",
            "24\n",
            "120\n",
            "720\n",
            "5040\n",
            "40320\n",
            "362880\n",
            "3628800\n",
            "39916800\n",
            "479001600\n",
            "6227020800\n",
            "87178291200\n",
            "1307674368000\n",
            "20922789888000\n",
            "355687428096000\n",
            "6402373705728000\n",
            "121645100408832000\n",
            "2432902008176640000\n"
          ],
          "name": "stdout"
        }
      ]
    },
    {
      "cell_type": "code",
      "metadata": {
        "colab": {
          "base_uri": "https://localhost:8080/"
        },
        "id": "ecLRQBzrm5ev",
        "outputId": "a6696d28-20f9-43c9-be68-7218448c2ee0"
      },
      "source": [
        "#Cuenta regresiva simple.\r\n",
        "def printRev(n): #3 2    1   0\r\n",
        "  if n > 0:\r\n",
        "    print(n)\r\n",
        "    printRev(n-1)\r\n",
        "printRev(3)"
      ],
      "execution_count": 90,
      "outputs": [
        {
          "output_type": "stream",
          "text": [
            "3\n",
            "2\n",
            "1\n"
          ],
          "name": "stdout"
        }
      ]
    },
    {
      "cell_type": "code",
      "metadata": {
        "colab": {
          "base_uri": "https://localhost:8080/"
        },
        "id": "RDdG3Xaspe9q",
        "outputId": "de69bf65-92b9-4612-cf7a-9b77f4f959da"
      },
      "source": [
        "#Cuenta progresiva simple.\r\n",
        "def printRev(n): #3 2    1   0\r\n",
        "  if n > 0:\r\n",
        "    printRev(n-1) #Hasta que no se termina de ejecutar este, no imprime n\r\n",
        "    print(n)\r\n",
        "printRev(3)"
      ],
      "execution_count": 91,
      "outputs": [
        {
          "output_type": "stream",
          "text": [
            "1\n",
            "2\n",
            "3\n"
          ],
          "name": "stdout"
        }
      ]
    },
    {
      "cell_type": "code",
      "metadata": {
        "colab": {
          "base_uri": "https://localhost:8080/"
        },
        "id": "riW1Df9Fwq1l",
        "outputId": "672a845c-2e0d-4a10-ee47-70bcea332dfb"
      },
      "source": [
        "def SerieDeFibonacci(n):\r\n",
        "  if n == 0:\r\n",
        "    return  0\r\n",
        "  elif n == 1:\r\n",
        "    return  1\r\n",
        "  else:\r\n",
        "    return SerieDeFibonacci(n -1) + SerieDeFibonacci(n -2)\r\n",
        "\r\n",
        "SerieDeFibonacci(8)\r\n"
      ],
      "execution_count": 92,
      "outputs": [
        {
          "output_type": "execute_result",
          "data": {
            "text/plain": [
              "21"
            ]
          },
          "metadata": {
            "tags": []
          },
          "execution_count": 92
        }
      ]
    }
  ]
}