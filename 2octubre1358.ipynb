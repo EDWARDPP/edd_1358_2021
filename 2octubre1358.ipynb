{
  "nbformat": 4,
  "nbformat_minor": 0,
  "metadata": {
    "colab": {
      "name": "2octubre1358.ipynb",
      "provenance": [],
      "authorship_tag": "ABX9TyPAztyOxG8ba4RJrrckvE+j",
      "include_colab_link": true
    },
    "kernelspec": {
      "name": "python3",
      "display_name": "Python 3"
    }
  },
  "cells": [
    {
      "cell_type": "markdown",
      "metadata": {
        "id": "view-in-github",
        "colab_type": "text"
      },
      "source": [
        "<a href=\"https://colab.research.google.com/github/EDWARDPP/edd_1358_2021/blob/master/2octubre1358.ipynb\" target=\"_parent\"><img src=\"https://colab.research.google.com/assets/colab-badge.svg\" alt=\"Open In Colab\"/></a>"
      ]
    },
    {
      "cell_type": "markdown",
      "metadata": {
        "id": "F8uxcsVr3H-b"
      },
      "source": [
        "# Tipos de dato\n",
        "- string                 str\n",
        "- enteros                int \n",
        "- numero flotante        float\n",
        "- Logico                 bool\n",
        "- numero complejo        complex\n",
        "- listas                 list\n",
        "-tuplas                  tuple\n",
        "-diccionarios            dict\n",
        "-conjuntos               set\n",
        "\n"
      ]
    },
    {
      "cell_type": "code",
      "metadata": {
        "id": "qyCgT3pv4CBZ",
        "outputId": "55f63f5a-d3ea-4f56-cde0-8361f4f23ae0",
        "colab": {
          "base_uri": "https://localhost:8080/",
          "height": 170
        }
      },
      "source": [
        "# string puede emplear \"\", '' o \"\"\"  \"\"\"\n",
        "universidad = \"     universidad nacional autonoma de mexico\"\n",
        "print(universidad)\n",
        "# cuando el string es una sola palabra se usa '', por buena practica\n",
        "carrera = 'ico'\n",
        "area = 'software'\n",
        "division = 'division de las ciencias fisico matematicas '\n",
        "print(carrera, area)\n",
        "print(division)\n",
        "#Las triples comillas se utilizan cuando el string tiene varios renglones\n",
        "frase = \"\"\" \n",
        "si \n",
        "funciona ¡¡no\n",
        "lo\n",
        "arregles !!\n",
        "\"\"\"\n",
        "print(frase)\n"
      ],
      "execution_count": 47,
      "outputs": [
        {
          "output_type": "stream",
          "text": [
            "     universidad nacional autonoma de mexico\n",
            "ico software\n",
            "division de las ciencias fisico matematicas \n",
            " \n",
            "si \n",
            "funciona ¡¡no\n",
            "lo\n",
            "arregles !!\n",
            "\n"
          ],
          "name": "stdout"
        }
      ]
    },
    {
      "cell_type": "code",
      "metadata": {
        "id": "QKmJL8Dd5yL_",
        "outputId": "816f2fdf-de5b-4ace-8bce-231df4247274",
        "colab": {
          "base_uri": "https://localhost:8080/",
          "height": 221
        }
      },
      "source": [
        "print(universidad.upper() ) #regresa una copia en mayusculas\n",
        "print(universidad)\n",
        "print(universidad.title()) #Le da formato al texto, con las letras iniciales en mayusculas\n",
        "universidad = universidad.strip() #Quita los espacios en blanco a la derecha e izquierda y elimina los saltos de linea\n",
        "print(universidad)\n",
        "lista = universidad.split(\" \")\n",
        "print(lista)\n",
        "\n",
        "nueva=\"\"\n",
        "for l in lista:\n",
        "  if len(l) > 0:\n",
        "    nueva += l + \" \"\n",
        "print(nueva)\n",
        "\n",
        "numeros = \"1, 2, 34, 56, 100\" #Para operar con ellos hay que separarlos\n",
        "separados = numeros.split(\",\") \n",
        "print(separados)\n",
        "#para operarlos como enteros hay que convertirlos\n",
        "\n",
        "numeros_int =[]\n",
        "for num in separados:\n",
        "  numeros_int.append( int(num))\n",
        "\n",
        "print(numeros_int) \n",
        "print(nueva)\n",
        "print(nueva.index(\"na\"))#imprime la posicion del primer espacio en blanco o cualquier otra cadena que le indiques\n",
        "print(nueva.replace(' ','-' )) #remplaza los elemtos indicados en la cadena original\n",
        "print(nueva)\n"
      ],
      "execution_count": 48,
      "outputs": [
        {
          "output_type": "stream",
          "text": [
            "     UNIVERSIDAD NACIONAL AUTONOMA DE MEXICO\n",
            "     universidad nacional autonoma de mexico\n",
            "     Universidad Nacional Autonoma De Mexico\n",
            "universidad nacional autonoma de mexico\n",
            "['universidad', 'nacional', 'autonoma', 'de', 'mexico']\n",
            "universidad nacional autonoma de mexico \n",
            "['1', ' 2', ' 34', ' 56', ' 100']\n",
            "[1, 2, 34, 56, 100]\n",
            "universidad nacional autonoma de mexico \n",
            "12\n",
            "universidad-nacional-autonoma-de-mexico-\n",
            "universidad nacional autonoma de mexico \n"
          ],
          "name": "stdout"
        }
      ]
    },
    {
      "cell_type": "markdown",
      "metadata": {
        "id": "eC6O2VtA_bpV"
      },
      "source": [
        "#slicing\n",
        "sintaxis\n",
        "[ inicio : stop : incremeto ]"
      ]
    },
    {
      "cell_type": "code",
      "metadata": {
        "id": "z1Ql37jb_wHx",
        "outputId": "bb3ef647-9285-4103-fe91-de92b3ac2bdc",
        "colab": {
          "base_uri": "https://localhost:8080/",
          "height": 153
        }
      },
      "source": [
        "#selector de elementos dentro de un string \n",
        "print(nueva[0]) \n",
        "nueva = nueva.strip()\n",
        "print( nueva[len(nueva)-1]) #len devuelve el tamaño de una lista y esta linea imprime el ultimo elemento de nueva\n",
        "print(nueva[-2])\n",
        "\n",
        "#slicing(se sacan mas elementos de un string, una rebanada)\n",
        "print(nueva)\n",
        "print( nueva[12: 20: 1]) #Al tope se le tiene que aumentar en uno \n",
        "\n",
        "#indexado negativo en slicing\n",
        "print( nueva[-6: : 1])\n",
        "#mexico a la inversa\n",
        "print (nueva[-1: -7: -1]) #si quieres ir a la derecha se pone positivo y a la izquierda negativo\n",
        "\n",
        "# valores por defecto [0 : long de la lista : 1]\n",
        "print(nueva[::2])\n",
        "\n",
        "\n"
      ],
      "execution_count": 49,
      "outputs": [
        {
          "output_type": "stream",
          "text": [
            "u\n",
            "o\n",
            "c\n",
            "universidad nacional autonoma de mexico\n",
            "nacional\n",
            "mexico\n",
            "ocixem\n",
            "uiesddncoa uooad eio\n"
          ],
          "name": "stdout"
        }
      ]
    },
    {
      "cell_type": "markdown",
      "metadata": {
        "id": "vzvjUZAED85S"
      },
      "source": [
        "#Tipo de dato bool\n",
        "Acepta solo dos valores\n",
        "- True bool(1)\n",
        "- False bool(0)"
      ]
    },
    {
      "cell_type": "code",
      "metadata": {
        "id": "IWO8U7oTESLI",
        "outputId": "e67a76c1-9fc9-4c43-85fb-e387a942531b",
        "colab": {
          "base_uri": "https://localhost:8080/",
          "height": 85
        }
      },
      "source": [
        "print(bool(0))\n",
        "print(bool(43255))\n",
        "flag = 0\n",
        "print(bool(flag))\n",
        "print(True)"
      ],
      "execution_count": 50,
      "outputs": [
        {
          "output_type": "stream",
          "text": [
            "False\n",
            "True\n",
            "False\n",
            "True\n"
          ],
          "name": "stdout"
        }
      ]
    },
    {
      "cell_type": "markdown",
      "metadata": {
        "id": "xo9QyycEFNAh"
      },
      "source": [
        "#comentarios\n",
        "\n",
        "para un comentario de una linea se usa #\n",
        "\n",
        "para un comentario de multiple linea, equivalente a /* */ de java y c se utiliza \"\"\" \"\"\""
      ]
    },
    {
      "cell_type": "code",
      "metadata": {
        "id": "0UvaAKXJFSta",
        "outputId": "2233fdc3-510a-4442-fcb8-eaebdc2a789d",
        "colab": {
          "base_uri": "https://localhost:8080/",
          "height": 35
        }
      },
      "source": [
        "# este es un comentario de linea simple\n",
        "\n",
        "\"\"\"\n",
        "Este \n",
        " es un\n",
        "  comentario de\n",
        "    multiple \n",
        "       linea\n",
        "\"\"\""
      ],
      "execution_count": 51,
      "outputs": [
        {
          "output_type": "execute_result",
          "data": {
            "application/vnd.google.colaboratory.intrinsic+json": {
              "type": "string"
            },
            "text/plain": [
              "'\\nEste \\n es un\\n  comentario de\\n    multiple \\n       linea\\n'"
            ]
          },
          "metadata": {
            "tags": []
          },
          "execution_count": 51
        }
      ]
    },
    {
      "cell_type": "markdown",
      "metadata": {
        "id": "KBrUZQwBFpIM"
      },
      "source": [
        "#  Funcion Print\n",
        "Existen 4 formas de usar print.\n",
        "1. con comas (,)\n",
        "2. con signo mas(+)\n",
        "3. con la funcion format de la clase string\n",
        "4. con el operador f\" \n"
      ]
    },
    {
      "cell_type": "code",
      "metadata": {
        "id": "3B5K5zJFGDn-",
        "outputId": "b4c71b83-a433-4d07-c4f4-d6461b384444",
        "colab": {
          "base_uri": "https://localhost:8080/",
          "height": 85
        }
      },
      "source": [
        " # con comas\n",
        " cantidad = 2\n",
        " precio_chetos = 8\n",
        " precio_fanta = 12\n",
        " \n",
        " print(cantidad, precio_chetos, precio_fanta) #todo lo que este con comas lo convierte en string\n",
        "\n",
        " #Con el signo mas, solo opera con strings\n",
        " print(\"Hola\" + \"Mundo\")\n",
        "print(cantidad + precio_chetos + precio_fanta)#el operador +, puede funcionar como operador aritmetico o como concatenador\n",
        "print(str(cantidad) + str(precio_chetos)+ str(precio_fanta)) #haciendo cating a string"
      ],
      "execution_count": 52,
      "outputs": [
        {
          "output_type": "stream",
          "text": [
            "2 8 12\n",
            "HolaMundo\n",
            "22\n",
            "2812\n"
          ],
          "name": "stdout"
        }
      ]
    }
  ]
}