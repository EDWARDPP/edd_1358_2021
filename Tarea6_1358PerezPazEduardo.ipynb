{
  "nbformat": 4,
  "nbformat_minor": 0,
  "metadata": {
    "colab": {
      "name": "Tarea6_1358PerezPazEduardo.ipynb",
      "provenance": [],
      "authorship_tag": "ABX9TyNUFsyNwkljnDxBnXjJUl5B",
      "include_colab_link": true
    },
    "kernelspec": {
      "name": "python3",
      "display_name": "Python 3"
    }
  },
  "cells": [
    {
      "cell_type": "markdown",
      "metadata": {
        "id": "view-in-github",
        "colab_type": "text"
      },
      "source": [
        "<a href=\"https://colab.research.google.com/github/EDWARDPP/edd_1358_2021/blob/master/Tarea6_1358PerezPazEduardo.ipynb\" target=\"_parent\"><img src=\"https://colab.research.google.com/assets/colab-badge.svg\" alt=\"Open In Colab\"/></a>"
      ]
    },
    {
      "cell_type": "code",
      "metadata": {
        "id": "-Gf94lDiCNWi"
      },
      "source": [
        "class Nodo:\n",
        "  def __init__(self, dato, siguiente=None):\n",
        "    self.dato = dato\n",
        "    self.siguiente = siguiente\n",
        "\n",
        "class CircularList:\n",
        "  def __init__(self):\n",
        "    self.__ref = None\n",
        "    self.__contador = 0\n",
        "\n",
        "  def is_empty(self):\n",
        "    return self.__ref == None\n",
        "\n",
        "  def insert(self, value):\n",
        "    nuevo = Nodo(value)\n",
        "    if self.__ref == None:\n",
        "       self.__ref = nuevo \n",
        "       self.__ref.siguiente = self.__ref\n",
        "    else:\n",
        "      curr_node = self.__ref.siguiente\n",
        "      if nuevo.dato <= self.__ref.dato and nuevo.dato <= curr_node.dato:\n",
        "         nuevo.siguiente = curr_node\n",
        "         curr_node = nuevo\n",
        "         self.__ref.siguiente = curr_node\n",
        "      \n",
        "      else: \n",
        "        if  nuevo.dato >= self.__ref.dato:\n",
        "          self.__ref.siguiente = nuevo\n",
        "          nuevo.siguiente = curr_node\n",
        "          self.__ref = nuevo\n",
        "\n",
        "        else: \n",
        "          aux = curr_node\n",
        "          while nuevo.dato > aux.siguiente.dato:\n",
        "            aux = aux.siguiente\n",
        "          nuevo.siguiente = aux.siguiente\n",
        "          aux.siguiente = nuevo\n",
        "\n",
        "    self.__contador +=1\n",
        "         \n",
        " \n",
        "      \n",
        "    \n",
        "  def transversal(self):\n",
        "    if self.__ref==None:\n",
        "      pass\n",
        "\n",
        "    curr_node = self.__ref.siguiente\n",
        "    if curr_node == self.__ref.siguiente and self.__contador== 1:\n",
        "      print(curr_node.dato, \"----->\", curr_node.dato)\n",
        "    \n",
        "    else:\n",
        "      curr_node = self.__ref.siguiente\n",
        "      for e in range(self.__contador):\n",
        "        print(curr_node.dato, \"------>\", end=\"\")\n",
        "        curr_node = curr_node.siguiente\n",
        "\n",
        "\n",
        "      \n",
        "    print(\"\")\n",
        "\n",
        "  def search(self, value):\n",
        "    curr_node = self.__ref\n",
        "    if curr_node.dato == value:\n",
        "      return True\n",
        "\n",
        "    else:\n",
        "     while curr_node.dato != value:\n",
        "      curr_node = curr_node.siguiente\n",
        "     if curr_node.dato == value:\n",
        "      return True\n",
        "     else:\n",
        "      return False\n",
        "\n",
        "  def remove(self, value):\n",
        "    curr_node = self.__ref\n",
        "    prev_node = None\n",
        "    while curr_node.dato != value:\n",
        "      prev_node = curr_node\n",
        "      curr_node = curr_node.siguiente\n",
        "    if curr_node.dato == value:\n",
        "      prev_node.siguiente = curr_node.siguiente\n",
        "\n",
        "\n",
        "\n",
        "\n",
        "    \n",
        "        \n",
        "\n",
        "\n",
        "        \n"
      ],
      "execution_count": 138,
      "outputs": []
    },
    {
      "cell_type": "code",
      "metadata": {
        "colab": {
          "base_uri": "https://localhost:8080/"
        },
        "id": "xdov9-W9FYSa",
        "outputId": "a7f24239-c252-47db-c5d6-100735fc9642"
      },
      "source": [
        "cl = CircularList()\n",
        "print(cl.is_empty())\n",
        "cl.insert(10)\n",
        "cl.insert(20 )\n",
        "cl.insert(5)\n",
        "cl.insert(30)\n",
        "cl.insert(25)\n",
        "print(cl.search(10))\n",
        "cl.transversal()\n",
        "cl.remove(20)\n",
        "cl.transversal()\n",
        "cl.remove(10)\n",
        "cl.transversal()"
      ],
      "execution_count": 139,
      "outputs": [
        {
          "output_type": "stream",
          "text": [
            "True\n",
            "True\n",
            "5 ------>10 ------>20 ------>25 ------>30 ------>\n",
            "5 ------>10 ------>25 ------>30 ------>5 ------>\n",
            "5 ------>25 ------>30 ------>5 ------>25 ------>\n"
          ],
          "name": "stdout"
        }
      ]
    },
    {
      "cell_type": "code",
      "metadata": {
        "colab": {
          "base_uri": "https://localhost:8080/"
        },
        "id": "TjplFigpaGcH",
        "outputId": "a6829daa-9a39-4b17-d334-d3be0b08b955"
      },
      "source": [
        "cl2 = CircularList()\n",
        "cl2.insert(10)\n",
        "cl2.transversal()\n",
        "print(cl2.search(10))\n",
        "cl2.insert(5)\n",
        "cl2.transversal()\n",
        "cl2.remove(5)\n",
        "cl2.transversal()"
      ],
      "execution_count": 140,
      "outputs": [
        {
          "output_type": "stream",
          "text": [
            "10 -----> 10\n",
            "\n",
            "True\n",
            "5 ------>10 ------>\n",
            "10 ------>10 ------>\n"
          ],
          "name": "stdout"
        }
      ]
    }
  ]
}