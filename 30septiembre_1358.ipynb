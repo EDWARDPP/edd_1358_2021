{
  "nbformat": 4,
  "nbformat_minor": 0,
  "metadata": {
    "colab": {
      "name": "30septiembre_1358.ipynb",
      "provenance": [],
      "authorship_tag": "ABX9TyNQu7Tvfxwbx4rQZi4tU9sv",
      "include_colab_link": true
    },
    "kernelspec": {
      "name": "python3",
      "display_name": "Python 3"
    }
  },
  "cells": [
    {
      "cell_type": "markdown",
      "metadata": {
        "id": "view-in-github",
        "colab_type": "text"
      },
      "source": [
        "<a href=\"https://colab.research.google.com/github/EDWARDPP/edd_1358_2021/blob/master/30septiembre_1358.ipynb\" target=\"_parent\"><img src=\"https://colab.research.google.com/assets/colab-badge.svg\" alt=\"Open In Colab\"/></a>"
      ]
    },
    {
      "cell_type": "markdown",
      "metadata": {
        "id": "fkfQRWkqsqZr"
      },
      "source": [
        "#Fundamentos de phyton 3\n",
        "###Tipos de datos basicos\n",
        "edad = 13\n",
        "nombre \"jose\"\n",
        "estatura=  1.67\n",
        "tiene_ine= true\n",
        "\n",
        "####Compuestos\n",
        "\n",
        "####Lista o Arreglos\n",
        "lista_ejemplo = [\"manzana\", 1.57, True, (\"rojo\", \"azul\") ]\n",
        "\n",
        "####Tuplas\n",
        "son inmutables\n",
        "se accede a los elementos via el indice\n",
        "los elementos pueden ser de diferente tipo\n",
        "\n",
        "tupla_ejemplo = (\"root\", \"123.322.45.2\", \"1234dios)\n",
        "\n",
        "####Diccionarios\n",
        "son equivalentes a los JSON DE JS\n",
        "\n",
        "####Sets\n",
        "SON DATOS AGRUPADOS"
      ]
    },
    {
      "cell_type": "code",
      "metadata": {
        "id": "g2N3blcBucJ8",
        "outputId": "f4786bfa-de64-4628-aa15-0a6473c1dfa5",
        "colab": {
          "base_uri": "https://localhost:8080/",
          "height": 187
        }
      },
      "source": [
        "lista_ejemplo = [\"manzana\", 1.57, True, [\"rojo\", \"azul\"] ]\n",
        "print(lista_ejemplo[1])\n",
        "print(lista_ejemplo[3])\n",
        "print(lista_ejemplo[3][1])\n",
        "lista_ejemplo[0] = \"Manzana\"\n",
        "print(lista_ejemplo)\n",
        "#agregar un elemento al final, o agrega una lista al final de otra lista\n",
        "lista_ejemplo.append(\"iphone\")\n",
        "print(lista_ejemplo)\n",
        "\n",
        "#sacar el ultimo elemento\n",
        "valor = lista_ejemplo.pop()\n",
        "print(valor)\n",
        "print(lista_ejemplo)\n",
        "\n",
        "#documentacion del tipo de dato lista dir () y help()\n",
        "#dir(list)\n",
        "#help(lista_ejemplo)\n",
        "\n",
        "#para insertar un elemneto en la poosicion que nosotros queramos\n",
        "lista_ejemplo.insert(1,\"Huawei\")\n",
        "print(lista_ejemplo)\n",
        "\n",
        "#Te dice cuantos elementos que tu le especifiques hay\n",
        "conteo = lista_ejemplo.count(True)\n",
        "print(conteo)\n",
        "\n",
        "#Dos listas se hacen una sola(se fusionan)\n",
        "colores = [\"Rosa\", \"Fiusha\", \"Negro\"]\n",
        "\n",
        "lista_ejemplo.extend(colores)\n",
        "print(lista_ejemplo)\n",
        "\n",
        "\n",
        "\n"
      ],
      "execution_count": 10,
      "outputs": [
        {
          "output_type": "stream",
          "text": [
            "1.57\n",
            "['rojo', 'azul']\n",
            "azul\n",
            "['Manzana', 1.57, True, ['rojo', 'azul']]\n",
            "['Manzana', 1.57, True, ['rojo', 'azul'], 'iphone']\n",
            "iphone\n",
            "['Manzana', 1.57, True, ['rojo', 'azul']]\n",
            "['Manzana', 'Huawei', 1.57, True, ['rojo', 'azul']]\n",
            "1\n",
            "['Manzana', 'Huawei', 1.57, True, ['rojo', 'azul'], 'Rosa', 'Fiusha', 'Negro']\n"
          ],
          "name": "stdout"
        }
      ]
    }
  ]
}