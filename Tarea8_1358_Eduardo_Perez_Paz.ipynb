{
  "nbformat": 4,
  "nbformat_minor": 0,
  "metadata": {
    "colab": {
      "name": "Tarea8_1358_Eduardo_Perez_Paz.ipynb",
      "provenance": [],
      "authorship_tag": "ABX9TyNG5ZMs0vgOs0lAD2+fdRMF",
      "include_colab_link": true
    },
    "kernelspec": {
      "name": "python3",
      "display_name": "Python 3"
    }
  },
  "cells": [
    {
      "cell_type": "markdown",
      "metadata": {
        "id": "view-in-github",
        "colab_type": "text"
      },
      "source": [
        "<a href=\"https://colab.research.google.com/github/EDWARDPP/edd_1358_2021/blob/master/Tarea8_1358_Eduardo_Perez_Paz.ipynb\" target=\"_parent\"><img src=\"https://colab.research.google.com/assets/colab-badge.svg\" alt=\"Open In Colab\"/></a>"
      ]
    },
    {
      "cell_type": "code",
      "metadata": {
        "id": "rcbP5kTlQQI9"
      },
      "source": [
        "class Queue:\r\n",
        "  def __init__(self):\r\n",
        "    self.__data = list()\r\n",
        "\r\n",
        "  def is_empty(self):\r\n",
        "    return len(self.__data) == 0\r\n",
        "  \r\n",
        "  def length(self):\r\n",
        "    return len(self.__data)\r\n",
        "\r\n",
        "  def enqueue(self, item):\r\n",
        "    self.__data.append(item)\r\n",
        "\r\n",
        "  def dequeue(self):\r\n",
        "    if not self.is_empty():\r\n",
        "     return self.__data.pop(0)\r\n",
        "    else: \r\n",
        "      return None\r\n",
        "\r\n",
        "  def to_string(self):\r\n",
        "    for elem in self.__data:\r\n",
        "      print(f\"| { elem } \", end=\"\")\r\n",
        "    print(\"|\")"
      ],
      "execution_count": 53,
      "outputs": []
    },
    {
      "cell_type": "code",
      "metadata": {
        "id": "h1cGRmFARNmH"
      },
      "source": [
        "class NoAcotadaPriorityQueue:\r\n",
        "  def __init__(self):\r\n",
        "    self.__data= list()\r\n",
        "    self.__size =0\r\n",
        "\r\n",
        "  def is_empty(self):\r\n",
        "    return self.__size == 0 \r\n",
        "\r\n",
        "  def length(self):\r\n",
        "    return self.__size\r\n",
        "\r\n",
        "  def enqueue(self, prioridad, elem):\r\n",
        "    if self.is_empty() or prioridad > self.__size:\r\n",
        "      self.__data.append([elem,prioridad])\r\n",
        "      self.__size += 1\r\n",
        "    else:\r\n",
        "      a = self.__size -1 \r\n",
        "      while self.__data[a][1] != prioridad and a >= 0:\r\n",
        "        a -= 1\r\n",
        "      if a != -1: \r\n",
        "        self.__data.insert((a+1),[elem,prioridad]) \r\n",
        "        self.__size += 1\r\n",
        "      else:\r\n",
        "        if prioridad > self.__data[self.__size -1][1]:\r\n",
        "          self.__data.append([elem,prioridad])\r\n",
        "          self.__size += 1\r\n",
        "        else:\r\n",
        "          b = self.__size -1 \r\n",
        "          while prioridad < self.__data[b][1] and b >= 0:\r\n",
        "            b-= 1\r\n",
        "          self.__data.insert((a),[elem,prioridad]) \r\n",
        "          self.__size += 1\r\n",
        "  \r\n",
        "  \r\n",
        "  def dequeue(self):\r\n",
        "     self.__size -=1\r\n",
        "     self.__data.pop(0)\r\n",
        "   \r\n",
        "\r\n",
        "  def to_string(self):\r\n",
        "     for i in range(len(self.__data)) :\r\n",
        "       print(f\"| {self.__data[i][0]}\", end=\"\")\r\n",
        "     print(\"|\")\r\n"
      ],
      "execution_count": 54,
      "outputs": []
    },
    {
      "cell_type": "code",
      "metadata": {
        "colab": {
          "base_uri": "https://localhost:8080/"
        },
        "id": "VgWaoEJRsf2t",
        "outputId": "178f1218-f7b6-443a-c845-b885a1d9f69f"
      },
      "source": [
        "cpna= NoAPriorityQueue()\r\n",
        "print(cpna.is_empty())\r\n",
        "cpna.enqueue(3, \"Rosa\")\r\n",
        "cpna.enqueue(0, \"Ramon\")\r\n",
        "cpna.enqueue(1, \"Rodrigo\")\r\n",
        "cpna.enqueue(2, \"Edgar\")\r\n",
        "cpna.enqueue(1, \"Jose\")\r\n",
        "cpna.to_string()\r\n",
        "print(cpna.length())\r\n",
        "cpna.dequeue()\r\n",
        "cpna.dequeue()\r\n",
        "print(cpna.to_string())\r\n"
      ],
      "execution_count": 55,
      "outputs": [
        {
          "output_type": "stream",
          "text": [
            "True\n",
            "| Ramon |\n",
            "| Rodrigo |\n",
            "| Jose |\n",
            "| Edgar |\n",
            "| Rosa |\n",
            "5\n",
            "| Jose |\n",
            "| Edgar |\n",
            "| Rosa |\n",
            "None\n"
          ],
          "name": "stdout"
        }
      ]
    }
  ]
}