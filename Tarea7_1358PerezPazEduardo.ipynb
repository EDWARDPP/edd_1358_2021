{
  "nbformat": 4,
  "nbformat_minor": 0,
  "metadata": {
    "colab": {
      "name": "Tarea7_1358PerezPazEduardo.ipynb",
      "provenance": [],
      "authorship_tag": "ABX9TyOeKCs1PPpCtWmH17yL984k",
      "include_colab_link": true
    },
    "kernelspec": {
      "name": "python3",
      "display_name": "Python 3"
    }
  },
  "cells": [
    {
      "cell_type": "markdown",
      "metadata": {
        "id": "view-in-github",
        "colab_type": "text"
      },
      "source": [
        "<a href=\"https://colab.research.google.com/github/EDWARDPP/edd_1358_2021/blob/master/Tarea7_1358PerezPazEduardo.ipynb\" target=\"_parent\"><img src=\"https://colab.research.google.com/assets/colab-badge.svg\" alt=\"Open In Colab\"/></a>"
      ]
    },
    {
      "cell_type": "code",
      "metadata": {
        "id": "hY8jOXIn1bZH"
      },
      "source": [
        "class Stack:\n",
        "  def __init__(self):\n",
        "    self.__data = []\n",
        "    self.__size = 0\n",
        "\n",
        "  def pop(self):\n",
        "    return self.__data.pop()\n",
        "  \n",
        "  def peek(self):\n",
        "    return self.__data[-1]\n",
        "\n",
        "  def push(self, value):\n",
        "    self.__data.append(value)\n",
        "\n",
        "    self.__size +=1\n",
        "  \n",
        "  def to_String(self):\n",
        "    print(\"------\")\n",
        "    for dato in self.__data[::-1]:  #Slicing inverso, permite recorrer la pila en orden \n",
        "      print(f\"| {dato} |\")\n",
        "      print(\"------\")"
      ],
      "execution_count": 4,
      "outputs": []
    },
    {
      "cell_type": "code",
      "metadata": {
        "colab": {
          "base_uri": "https://localhost:8080/"
        },
        "id": "6Twz9K9G0_Y5",
        "outputId": "552495d0-489c-490c-8a86-2aca2b86fa46"
      },
      "source": [
        "#Aplicaciones de la estructura Stack\n",
        "#1.-Validacion de parentesis balanceados '(' , '[' y '{'\n",
        "\n",
        "print(\"Cuando existen igual numero de paréntesis de apertura y de cierre: \", end= \"\")\n",
        "cadena = \"b=3*(5+(4/2))\"\n",
        "pila = Stack()\n",
        "pila.push(\"#\")  #Caracter de pila vacia ----> #\n",
        " \n",
        "cont_apertura = 0\n",
        "cont_cierre = 0\n",
        "for char in cadena:\n",
        "  if char == \"(\":\n",
        "    pila.push(\"*\")\n",
        "    cont_apertura +=1 \n",
        "  elif char == \")\":\n",
        "    pila.pop()\n",
        "    cont_cierre +=1 \n",
        "    if cont_cierre > cont_apertura: \n",
        "      pila.push(\"*\")\n",
        "  else:\n",
        "    if cont_cierre > cont_apertura: \n",
        "      pila.push(\"*\")\n",
        "    \n",
        "if pila.peek() == \"#\":\n",
        "  print(\"La Expresión esta balanceada en paréntesis\")\n",
        "else:\n",
        "  print(\"La Expresión no esta balanceada en paréntesis\")\n",
        "\n",
        "\n",
        "\n",
        "print(\"Cuando existen más paréntesis de apertura que de cierre: \", end= \"\")\n",
        "cadena = \"b=3*(5+((4/2))\"\n",
        "pila = Stack()\n",
        "pila.push(\"#\")  #Caracter de pila vacia ----> #\n",
        " \n",
        "cont_apertura = 0\n",
        "cont_cierre = 0\n",
        "for char in cadena:\n",
        "  if char == \"(\":\n",
        "    pila.push(\"*\")\n",
        "    cont_apertura +=1 \n",
        "  elif char == \")\":\n",
        "    pila.pop()\n",
        "    cont_cierre +=1 \n",
        "    if cont_cierre > cont_apertura: \n",
        "      pila.push(\"*\")\n",
        "  else:\n",
        "    if cont_cierre > cont_apertura: \n",
        "      pila.push(\"*\")\n",
        "    \n",
        "if pila.peek() == \"#\":\n",
        "  print(\"La Expresión esta balanceada en paréntesis\")\n",
        "else:\n",
        "  print(\"La Expresión no esta balanceada en paréntesis\")\n",
        "\n",
        "print(\"Cuando existen más paréntesis de cierre que de apertura: \", end= \"\")\n",
        "cadena = \"b=3*(5+(4/2)))\"\n",
        "pila = Stack()\n",
        "pila.push(\"#\")  #Caracter de pila vacia ----> #\n",
        " \n",
        "cont_apertura = 0\n",
        "cont_cierre = 0\n",
        "for char in cadena:\n",
        "  if char == \"(\":\n",
        "    pila.push(\"*\")\n",
        "    cont_apertura +=1 \n",
        "  elif char == \")\":\n",
        "    pila.pop()\n",
        "    cont_cierre +=1 \n",
        "    if cont_cierre > cont_apertura: \n",
        "      pila.push(\"*\")\n",
        "  else:\n",
        "    if cont_cierre > cont_apertura: \n",
        "      pila.push(\"*\")\n",
        "    \n",
        "if pila.peek() == \"#\":\n",
        "  print(\"La Expresión esta balanceada en paréntesis\")\n",
        "else:\n",
        "  print(\"La Expresión no esta balanceada en paréntesis\")\n"
      ],
      "execution_count": 5,
      "outputs": [
        {
          "output_type": "stream",
          "text": [
            "Cuando existen igual numero de paréntesis de apertura y de cierre: La Expresión esta balanceada en paréntesis\n",
            "Cuando existen más paréntesis de apertura que de cierre: La Expresión no esta balanceada en paréntesis\n",
            "Cuando existen más paréntesis de cierre que de apertura: La Expresión no esta balanceada en paréntesis\n"
          ],
          "name": "stdout"
        }
      ]
    }
  ]
}